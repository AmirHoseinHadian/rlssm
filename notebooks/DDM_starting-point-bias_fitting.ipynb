{
 "cells": [
  {
   "cell_type": "code",
   "execution_count": 1,
   "metadata": {},
   "outputs": [],
   "source": [
    "import rlssm\n",
    "import pandas as pd"
   ]
  },
  {
   "cell_type": "markdown",
   "metadata": {},
   "source": [
    "#### Simulate some data:"
   ]
  },
  {
   "cell_type": "code",
   "execution_count": 2,
   "metadata": {},
   "outputs": [],
   "source": [
    "from rlssm.random import simulate_DDM"
   ]
  },
  {
   "cell_type": "code",
   "execution_count": 3,
   "metadata": {},
   "outputs": [
    {
     "name": "stderr",
     "output_type": "stream",
     "text": [
      "INFO:numexpr.utils:NumExpr defaulting to 8 threads.\n"
     ]
    }
   ],
   "source": [
    "data = simulate_DDM(\n",
    "    n_trials=400, \n",
    "    gen_drift=.8, \n",
    "    gen_threshold=1.3, \n",
    "    gen_ndt=.23, \n",
    "    gen_rel_sp=.6)"
   ]
  },
  {
   "cell_type": "code",
   "execution_count": 4,
   "metadata": {},
   "outputs": [
    {
     "data": {
      "text/html": [
       "<div>\n",
       "<style scoped>\n",
       "    .dataframe tbody tr th:only-of-type {\n",
       "        vertical-align: middle;\n",
       "    }\n",
       "\n",
       "    .dataframe tbody tr th {\n",
       "        vertical-align: top;\n",
       "    }\n",
       "\n",
       "    .dataframe thead th {\n",
       "        text-align: right;\n",
       "    }\n",
       "</style>\n",
       "<table border=\"1\" class=\"dataframe\">\n",
       "  <thead>\n",
       "    <tr style=\"text-align: right;\">\n",
       "      <th></th>\n",
       "      <th>rt</th>\n",
       "      <th>accuracy</th>\n",
       "    </tr>\n",
       "  </thead>\n",
       "  <tbody>\n",
       "    <tr>\n",
       "      <td>count</td>\n",
       "      <td>400.000000</td>\n",
       "      <td>400.000000</td>\n",
       "    </tr>\n",
       "    <tr>\n",
       "      <td>mean</td>\n",
       "      <td>0.587870</td>\n",
       "      <td>0.810000</td>\n",
       "    </tr>\n",
       "    <tr>\n",
       "      <td>std</td>\n",
       "      <td>0.292844</td>\n",
       "      <td>0.392792</td>\n",
       "    </tr>\n",
       "    <tr>\n",
       "      <td>min</td>\n",
       "      <td>0.268000</td>\n",
       "      <td>0.000000</td>\n",
       "    </tr>\n",
       "    <tr>\n",
       "      <td>25%</td>\n",
       "      <td>0.387500</td>\n",
       "      <td>1.000000</td>\n",
       "    </tr>\n",
       "    <tr>\n",
       "      <td>50%</td>\n",
       "      <td>0.497500</td>\n",
       "      <td>1.000000</td>\n",
       "    </tr>\n",
       "    <tr>\n",
       "      <td>75%</td>\n",
       "      <td>0.698750</td>\n",
       "      <td>1.000000</td>\n",
       "    </tr>\n",
       "    <tr>\n",
       "      <td>max</td>\n",
       "      <td>1.854000</td>\n",
       "      <td>1.000000</td>\n",
       "    </tr>\n",
       "  </tbody>\n",
       "</table>\n",
       "</div>"
      ],
      "text/plain": [
       "               rt    accuracy\n",
       "count  400.000000  400.000000\n",
       "mean     0.587870    0.810000\n",
       "std      0.292844    0.392792\n",
       "min      0.268000    0.000000\n",
       "25%      0.387500    1.000000\n",
       "50%      0.497500    1.000000\n",
       "75%      0.698750    1.000000\n",
       "max      1.854000    1.000000"
      ]
     },
     "execution_count": 4,
     "metadata": {},
     "output_type": "execute_result"
    }
   ],
   "source": [
    "data.describe()[['rt', 'accuracy']]"
   ]
  },
  {
   "cell_type": "markdown",
   "metadata": {},
   "source": [
    "#### Initialise the model:"
   ]
  },
  {
   "cell_type": "code",
   "execution_count": 5,
   "metadata": {},
   "outputs": [
    {
     "name": "stdout",
     "output_type": "stream",
     "text": [
      "Using cached StanModel\n"
     ]
    }
   ],
   "source": [
    "model = rlssm.DDModel(hierarchical_levels = 1, starting_point_bias=True)"
   ]
  },
  {
   "cell_type": "code",
   "execution_count": 6,
   "metadata": {},
   "outputs": [
    {
     "data": {
      "text/plain": [
       "('DDM', 'DDM_bias', 1)"
      ]
     },
     "execution_count": 6,
     "metadata": {},
     "output_type": "execute_result"
    }
   ],
   "source": [
    "model.family, model.model_label, model.hierarchical_levels"
   ]
  },
  {
   "cell_type": "code",
   "execution_count": 7,
   "metadata": {},
   "outputs": [
    {
     "data": {
      "text/plain": [
       "True"
      ]
     },
     "execution_count": 7,
     "metadata": {},
     "output_type": "execute_result"
    }
   ],
   "source": [
    "model.starting_point_bias"
   ]
  },
  {
   "cell_type": "markdown",
   "metadata": {},
   "source": [
    "### Fit"
   ]
  },
  {
   "cell_type": "code",
   "execution_count": 8,
   "metadata": {},
   "outputs": [],
   "source": [
    "# sampling parameters\n",
    "n_iter = 1000\n",
    "n_chains = 2\n",
    "n_thin = 1\n",
    "\n",
    "# bayesian model\n",
    "drift_priors = {'mu':1, 'sd':3}\n",
    "threshold_priors = {'mu':-1, 'sd':3}\n",
    "ndt_priors = {'mu':-1, 'sd':1}\n",
    "rel_sp_priors = None # set to default"
   ]
  },
  {
   "cell_type": "code",
   "execution_count": 9,
   "metadata": {},
   "outputs": [
    {
     "name": "stderr",
     "output_type": "stream",
     "text": [
      "WARNING:pystan:Maximum (flat) parameter count (1000) exceeded: skipping diagnostic tests for n_eff and Rhat.\n",
      "To run all diagnostics call pystan.check_hmc_diagnostics(fit)\n"
     ]
    }
   ],
   "source": [
    "model_fit = model.fit(\n",
    "    data,\n",
    "    drift_priors=drift_priors,\n",
    "    threshold_priors=threshold_priors,\n",
    "    ndt_priors=ndt_priors,\n",
    "    rel_sp_priors=rel_sp_priors,\n",
    "    thin = n_thin,\n",
    "    iter = n_iter,\n",
    "    chains = n_chains,\n",
    "    verbose = False)"
   ]
  },
  {
   "cell_type": "code",
   "execution_count": 10,
   "metadata": {},
   "outputs": [
    {
     "data": {
      "text/plain": [
       "<rlddm.fits.DDMFittedModel at 0x126e9b350>"
      ]
     },
     "execution_count": 10,
     "metadata": {},
     "output_type": "execute_result"
    }
   ],
   "source": [
    "model_fit"
   ]
  },
  {
   "cell_type": "markdown",
   "metadata": {},
   "source": [
    "#### get Rhat"
   ]
  },
  {
   "cell_type": "code",
   "execution_count": 11,
   "metadata": {},
   "outputs": [
    {
     "data": {
      "text/html": [
       "<div>\n",
       "<style scoped>\n",
       "    .dataframe tbody tr th:only-of-type {\n",
       "        vertical-align: middle;\n",
       "    }\n",
       "\n",
       "    .dataframe tbody tr th {\n",
       "        vertical-align: top;\n",
       "    }\n",
       "\n",
       "    .dataframe thead th {\n",
       "        text-align: right;\n",
       "    }\n",
       "</style>\n",
       "<table border=\"1\" class=\"dataframe\">\n",
       "  <thead>\n",
       "    <tr style=\"text-align: right;\">\n",
       "      <th></th>\n",
       "      <th>Rhat</th>\n",
       "    </tr>\n",
       "  </thead>\n",
       "  <tbody>\n",
       "    <tr>\n",
       "      <td>count</td>\n",
       "      <td>4.000000</td>\n",
       "    </tr>\n",
       "    <tr>\n",
       "      <td>mean</td>\n",
       "      <td>1.000916</td>\n",
       "    </tr>\n",
       "    <tr>\n",
       "      <td>std</td>\n",
       "      <td>0.001313</td>\n",
       "    </tr>\n",
       "    <tr>\n",
       "      <td>min</td>\n",
       "      <td>0.999375</td>\n",
       "    </tr>\n",
       "    <tr>\n",
       "      <td>25%</td>\n",
       "      <td>1.000065</td>\n",
       "    </tr>\n",
       "    <tr>\n",
       "      <td>50%</td>\n",
       "      <td>1.001052</td>\n",
       "    </tr>\n",
       "    <tr>\n",
       "      <td>75%</td>\n",
       "      <td>1.001903</td>\n",
       "    </tr>\n",
       "    <tr>\n",
       "      <td>max</td>\n",
       "      <td>1.002187</td>\n",
       "    </tr>\n",
       "  </tbody>\n",
       "</table>\n",
       "</div>"
      ],
      "text/plain": [
       "           Rhat\n",
       "count  4.000000\n",
       "mean   1.000916\n",
       "std    0.001313\n",
       "min    0.999375\n",
       "25%    1.000065\n",
       "50%    1.001052\n",
       "75%    1.001903\n",
       "max    1.002187"
      ]
     },
     "execution_count": 11,
     "metadata": {},
     "output_type": "execute_result"
    }
   ],
   "source": [
    "Rhat = model_fit.check_convergence()\n",
    "\n",
    "Rhat.describe()"
   ]
  },
  {
   "cell_type": "code",
   "execution_count": 12,
   "metadata": {},
   "outputs": [
    {
     "data": {
      "text/html": [
       "<div>\n",
       "<style scoped>\n",
       "    .dataframe tbody tr th:only-of-type {\n",
       "        vertical-align: middle;\n",
       "    }\n",
       "\n",
       "    .dataframe tbody tr th {\n",
       "        vertical-align: top;\n",
       "    }\n",
       "\n",
       "    .dataframe thead th {\n",
       "        text-align: right;\n",
       "    }\n",
       "</style>\n",
       "<table border=\"1\" class=\"dataframe\">\n",
       "  <thead>\n",
       "    <tr style=\"text-align: right;\">\n",
       "      <th></th>\n",
       "      <th>Rhat</th>\n",
       "      <th>variable</th>\n",
       "    </tr>\n",
       "  </thead>\n",
       "  <tbody>\n",
       "    <tr>\n",
       "      <td>0</td>\n",
       "      <td>1.001808</td>\n",
       "      <td>drift</td>\n",
       "    </tr>\n",
       "    <tr>\n",
       "      <td>1</td>\n",
       "      <td>0.999375</td>\n",
       "      <td>threshold</td>\n",
       "    </tr>\n",
       "    <tr>\n",
       "      <td>2</td>\n",
       "      <td>1.002187</td>\n",
       "      <td>ndt</td>\n",
       "    </tr>\n",
       "    <tr>\n",
       "      <td>3</td>\n",
       "      <td>1.000295</td>\n",
       "      <td>rel_sp</td>\n",
       "    </tr>\n",
       "  </tbody>\n",
       "</table>\n",
       "</div>"
      ],
      "text/plain": [
       "       Rhat   variable\n",
       "0  1.001808      drift\n",
       "1  0.999375  threshold\n",
       "2  1.002187        ndt\n",
       "3  1.000295     rel_sp"
      ]
     },
     "execution_count": 12,
     "metadata": {},
     "output_type": "execute_result"
    }
   ],
   "source": [
    "Rhat.head()"
   ]
  },
  {
   "cell_type": "markdown",
   "metadata": {},
   "source": [
    "#### calculate wAIC"
   ]
  },
  {
   "cell_type": "code",
   "execution_count": 13,
   "metadata": {},
   "outputs": [
    {
     "data": {
      "text/plain": [
       "{'lppd': -126.96180999202987,\n",
       " 'p_waic': 4.309469820635803,\n",
       " 'waic': 262.54255962533136,\n",
       " 'waic_se': 46.63095491552582}"
      ]
     },
     "execution_count": 13,
     "metadata": {},
     "output_type": "execute_result"
    }
   ],
   "source": [
    "wAIC = model_fit.calculate_wAIC()\n",
    "wAIC"
   ]
  },
  {
   "cell_type": "markdown",
   "metadata": {},
   "source": [
    "#### Check divergences"
   ]
  },
  {
   "cell_type": "code",
   "execution_count": 14,
   "metadata": {},
   "outputs": [
    {
     "name": "stdout",
     "output_type": "stream",
     "text": [
      "0 of 1000 iterations saturated the maximum tree depth of 10 (0.0%)\n",
      "E-BFMI indicated no pathological behavior\n",
      "0.0 of 1000 iterations ended with a divergence (0.0%)\n"
     ]
    }
   ],
   "source": [
    "model_fit.check_divergencies()"
   ]
  },
  {
   "cell_type": "markdown",
   "metadata": {},
   "source": [
    "#### Get posteriors"
   ]
  },
  {
   "cell_type": "code",
   "execution_count": 15,
   "metadata": {},
   "outputs": [],
   "source": [
    "samples = model_fit.get_posteriors(pars=model_fit.parameters_names, permuted=True, diagnostics=False)"
   ]
  },
  {
   "cell_type": "code",
   "execution_count": 16,
   "metadata": {},
   "outputs": [
    {
     "data": {
      "text/html": [
       "<div>\n",
       "<style scoped>\n",
       "    .dataframe tbody tr th:only-of-type {\n",
       "        vertical-align: middle;\n",
       "    }\n",
       "\n",
       "    .dataframe tbody tr th {\n",
       "        vertical-align: top;\n",
       "    }\n",
       "\n",
       "    .dataframe thead th {\n",
       "        text-align: right;\n",
       "    }\n",
       "</style>\n",
       "<table border=\"1\" class=\"dataframe\">\n",
       "  <thead>\n",
       "    <tr style=\"text-align: right;\">\n",
       "      <th></th>\n",
       "      <th>chain</th>\n",
       "      <th>draw</th>\n",
       "      <th>warmup</th>\n",
       "      <th>permutation</th>\n",
       "      <th>chain_permutation</th>\n",
       "      <th>permutation_order</th>\n",
       "      <th>chain_permutation_order</th>\n",
       "      <th>drift</th>\n",
       "      <th>ndt</th>\n",
       "      <th>rel_sp</th>\n",
       "      <th>threshold</th>\n",
       "    </tr>\n",
       "  </thead>\n",
       "  <tbody>\n",
       "    <tr>\n",
       "      <td>370</td>\n",
       "      <td>0</td>\n",
       "      <td>370</td>\n",
       "      <td>0</td>\n",
       "      <td>66</td>\n",
       "      <td>66</td>\n",
       "      <td>0</td>\n",
       "      <td>0</td>\n",
       "      <td>0.862678</td>\n",
       "      <td>-1.464976</td>\n",
       "      <td>0.154375</td>\n",
       "      <td>0.298892</td>\n",
       "    </tr>\n",
       "    <tr>\n",
       "      <td>430</td>\n",
       "      <td>0</td>\n",
       "      <td>430</td>\n",
       "      <td>0</td>\n",
       "      <td>159</td>\n",
       "      <td>159</td>\n",
       "      <td>1</td>\n",
       "      <td>1</td>\n",
       "      <td>0.772730</td>\n",
       "      <td>-1.417085</td>\n",
       "      <td>0.241953</td>\n",
       "      <td>0.223235</td>\n",
       "    </tr>\n",
       "    <tr>\n",
       "      <td>427</td>\n",
       "      <td>0</td>\n",
       "      <td>427</td>\n",
       "      <td>0</td>\n",
       "      <td>261</td>\n",
       "      <td>261</td>\n",
       "      <td>2</td>\n",
       "      <td>2</td>\n",
       "      <td>0.771627</td>\n",
       "      <td>-1.466670</td>\n",
       "      <td>0.270051</td>\n",
       "      <td>0.293650</td>\n",
       "    </tr>\n",
       "    <tr>\n",
       "      <td>405</td>\n",
       "      <td>0</td>\n",
       "      <td>405</td>\n",
       "      <td>0</td>\n",
       "      <td>83</td>\n",
       "      <td>83</td>\n",
       "      <td>3</td>\n",
       "      <td>3</td>\n",
       "      <td>0.943414</td>\n",
       "      <td>-1.455419</td>\n",
       "      <td>0.138446</td>\n",
       "      <td>0.236440</td>\n",
       "    </tr>\n",
       "    <tr>\n",
       "      <td>97</td>\n",
       "      <td>0</td>\n",
       "      <td>97</td>\n",
       "      <td>0</td>\n",
       "      <td>138</td>\n",
       "      <td>138</td>\n",
       "      <td>4</td>\n",
       "      <td>4</td>\n",
       "      <td>0.916977</td>\n",
       "      <td>-1.477243</td>\n",
       "      <td>0.152225</td>\n",
       "      <td>0.294681</td>\n",
       "    </tr>\n",
       "  </tbody>\n",
       "</table>\n",
       "</div>"
      ],
      "text/plain": [
       "     chain  draw  warmup  permutation  chain_permutation  permutation_order  \\\n",
       "370      0   370       0           66                 66                  0   \n",
       "430      0   430       0          159                159                  1   \n",
       "427      0   427       0          261                261                  2   \n",
       "405      0   405       0           83                 83                  3   \n",
       "97       0    97       0          138                138                  4   \n",
       "\n",
       "     chain_permutation_order     drift       ndt    rel_sp  threshold  \n",
       "370                        0  0.862678 -1.464976  0.154375   0.298892  \n",
       "430                        1  0.772730 -1.417085  0.241953   0.223235  \n",
       "427                        2  0.771627 -1.466670  0.270051   0.293650  \n",
       "405                        3  0.943414 -1.455419  0.138446   0.236440  \n",
       "97                         4  0.916977 -1.477243  0.152225   0.294681  "
      ]
     },
     "execution_count": 16,
     "metadata": {},
     "output_type": "execute_result"
    }
   ],
   "source": [
    "samples.head()"
   ]
  },
  {
   "cell_type": "code",
   "execution_count": 17,
   "metadata": {},
   "outputs": [],
   "source": [
    "import seaborn as sns\n",
    "sns.set(context = \"talk\", \n",
    "        style = \"white\", \n",
    "        palette = \"husl\",\n",
    "        rc={'figure.figsize':(15, 8)})"
   ]
  },
  {
   "cell_type": "code",
   "execution_count": 18,
   "metadata": {},
   "outputs": [
    {
     "data": {
      "image/png": "[encoded data removed]",
      "text/plain": [
       "<Figure size 1440x360 with 4 Axes>"
      ]
     },
     "metadata": {},
     "output_type": "display_data"
    }
   ],
   "source": [
    "g = model_fit.plot_posteriors(height=5, show_intervals='HDI')\n",
    "\n",
    "for i, ax in enumerate(g.axes.flatten()):\n",
    "    ax.axvline(data[['drift', 'threshold', 'ndt', 'rel_sp']].mean().values[i], color='grey', linestyle='--')"
   ]
  },
  {
   "cell_type": "markdown",
   "metadata": {},
   "source": [
    "### Posterior predictives"
   ]
  },
  {
   "cell_type": "markdown",
   "metadata": {},
   "source": [
    "#### Ungrouped posterior predictives:"
   ]
  },
  {
   "cell_type": "code",
   "execution_count": 19,
   "metadata": {},
   "outputs": [],
   "source": [
    "pp = model_fit.get_posterior_predictives(n_posterior_predictives=100)"
   ]
  },
  {
   "cell_type": "code",
   "execution_count": 20,
   "metadata": {},
   "outputs": [
    {
     "data": {
      "text/html": [
       "<div>\n",
       "<style scoped>\n",
       "    .dataframe tbody tr th:only-of-type {\n",
       "        vertical-align: middle;\n",
       "    }\n",
       "\n",
       "    .dataframe tbody tr th {\n",
       "        vertical-align: top;\n",
       "    }\n",
       "\n",
       "    .dataframe thead tr th {\n",
       "        text-align: left;\n",
       "    }\n",
       "\n",
       "    .dataframe thead tr:last-of-type th {\n",
       "        text-align: right;\n",
       "    }\n",
       "</style>\n",
       "<table border=\"1\" class=\"dataframe\">\n",
       "  <thead>\n",
       "    <tr>\n",
       "      <th>variable</th>\n",
       "      <th colspan=\"10\" halign=\"left\">rt</th>\n",
       "      <th>...</th>\n",
       "      <th colspan=\"10\" halign=\"left\">accuracy</th>\n",
       "    </tr>\n",
       "    <tr>\n",
       "      <th>trial</th>\n",
       "      <th>1</th>\n",
       "      <th>2</th>\n",
       "      <th>3</th>\n",
       "      <th>4</th>\n",
       "      <th>5</th>\n",
       "      <th>6</th>\n",
       "      <th>7</th>\n",
       "      <th>8</th>\n",
       "      <th>9</th>\n",
       "      <th>10</th>\n",
       "      <th>...</th>\n",
       "      <th>391</th>\n",
       "      <th>392</th>\n",
       "      <th>393</th>\n",
       "      <th>394</th>\n",
       "      <th>395</th>\n",
       "      <th>396</th>\n",
       "      <th>397</th>\n",
       "      <th>398</th>\n",
       "      <th>399</th>\n",
       "      <th>400</th>\n",
       "    </tr>\n",
       "    <tr>\n",
       "      <th>sample</th>\n",
       "      <th></th>\n",
       "      <th></th>\n",
       "      <th></th>\n",
       "      <th></th>\n",
       "      <th></th>\n",
       "      <th></th>\n",
       "      <th></th>\n",
       "      <th></th>\n",
       "      <th></th>\n",
       "      <th></th>\n",
       "      <th></th>\n",
       "      <th></th>\n",
       "      <th></th>\n",
       "      <th></th>\n",
       "      <th></th>\n",
       "      <th></th>\n",
       "      <th></th>\n",
       "      <th></th>\n",
       "      <th></th>\n",
       "      <th></th>\n",
       "      <th></th>\n",
       "    </tr>\n",
       "  </thead>\n",
       "  <tbody>\n",
       "    <tr>\n",
       "      <td>1</td>\n",
       "      <td>0.387083</td>\n",
       "      <td>0.524083</td>\n",
       "      <td>0.386083</td>\n",
       "      <td>0.645083</td>\n",
       "      <td>0.678083</td>\n",
       "      <td>1.597083</td>\n",
       "      <td>0.429083</td>\n",
       "      <td>0.368083</td>\n",
       "      <td>0.540083</td>\n",
       "      <td>0.536083</td>\n",
       "      <td>...</td>\n",
       "      <td>1.0</td>\n",
       "      <td>1.0</td>\n",
       "      <td>1.0</td>\n",
       "      <td>1.0</td>\n",
       "      <td>1.0</td>\n",
       "      <td>1.0</td>\n",
       "      <td>1.0</td>\n",
       "      <td>1.0</td>\n",
       "      <td>1.0</td>\n",
       "      <td>1.0</td>\n",
       "    </tr>\n",
       "    <tr>\n",
       "      <td>2</td>\n",
       "      <td>0.421420</td>\n",
       "      <td>0.296420</td>\n",
       "      <td>0.770420</td>\n",
       "      <td>0.356420</td>\n",
       "      <td>1.465420</td>\n",
       "      <td>0.347420</td>\n",
       "      <td>0.460420</td>\n",
       "      <td>0.694420</td>\n",
       "      <td>0.423420</td>\n",
       "      <td>0.906420</td>\n",
       "      <td>...</td>\n",
       "      <td>1.0</td>\n",
       "      <td>1.0</td>\n",
       "      <td>1.0</td>\n",
       "      <td>0.0</td>\n",
       "      <td>1.0</td>\n",
       "      <td>1.0</td>\n",
       "      <td>0.0</td>\n",
       "      <td>1.0</td>\n",
       "      <td>1.0</td>\n",
       "      <td>1.0</td>\n",
       "    </tr>\n",
       "    <tr>\n",
       "      <td>3</td>\n",
       "      <td>0.978692</td>\n",
       "      <td>2.565692</td>\n",
       "      <td>0.379692</td>\n",
       "      <td>0.683692</td>\n",
       "      <td>0.519692</td>\n",
       "      <td>0.532692</td>\n",
       "      <td>0.435692</td>\n",
       "      <td>0.325692</td>\n",
       "      <td>0.430692</td>\n",
       "      <td>0.654692</td>\n",
       "      <td>...</td>\n",
       "      <td>0.0</td>\n",
       "      <td>1.0</td>\n",
       "      <td>1.0</td>\n",
       "      <td>1.0</td>\n",
       "      <td>1.0</td>\n",
       "      <td>1.0</td>\n",
       "      <td>1.0</td>\n",
       "      <td>1.0</td>\n",
       "      <td>1.0</td>\n",
       "      <td>0.0</td>\n",
       "    </tr>\n",
       "    <tr>\n",
       "      <td>4</td>\n",
       "      <td>0.610303</td>\n",
       "      <td>0.538303</td>\n",
       "      <td>1.040303</td>\n",
       "      <td>0.482303</td>\n",
       "      <td>0.385303</td>\n",
       "      <td>0.576303</td>\n",
       "      <td>0.392303</td>\n",
       "      <td>0.443303</td>\n",
       "      <td>0.884303</td>\n",
       "      <td>1.356303</td>\n",
       "      <td>...</td>\n",
       "      <td>1.0</td>\n",
       "      <td>1.0</td>\n",
       "      <td>1.0</td>\n",
       "      <td>1.0</td>\n",
       "      <td>1.0</td>\n",
       "      <td>1.0</td>\n",
       "      <td>1.0</td>\n",
       "      <td>1.0</td>\n",
       "      <td>1.0</td>\n",
       "      <td>0.0</td>\n",
       "    </tr>\n",
       "    <tr>\n",
       "      <td>5</td>\n",
       "      <td>0.409266</td>\n",
       "      <td>0.334266</td>\n",
       "      <td>0.870266</td>\n",
       "      <td>0.364266</td>\n",
       "      <td>0.629266</td>\n",
       "      <td>0.322266</td>\n",
       "      <td>0.459266</td>\n",
       "      <td>0.541266</td>\n",
       "      <td>0.592266</td>\n",
       "      <td>0.616266</td>\n",
       "      <td>...</td>\n",
       "      <td>1.0</td>\n",
       "      <td>1.0</td>\n",
       "      <td>1.0</td>\n",
       "      <td>0.0</td>\n",
       "      <td>0.0</td>\n",
       "      <td>1.0</td>\n",
       "      <td>1.0</td>\n",
       "      <td>0.0</td>\n",
       "      <td>0.0</td>\n",
       "      <td>1.0</td>\n",
       "    </tr>\n",
       "  </tbody>\n",
       "</table>\n",
       "<p>5 rows × 800 columns</p>\n",
       "</div>"
      ],
      "text/plain": [
       "variable        rt                                                    \\\n",
       "trial          1         2         3         4         5         6     \n",
       "sample                                                                 \n",
       "1         0.387083  0.524083  0.386083  0.645083  0.678083  1.597083   \n",
       "2         0.421420  0.296420  0.770420  0.356420  1.465420  0.347420   \n",
       "3         0.978692  2.565692  0.379692  0.683692  0.519692  0.532692   \n",
       "4         0.610303  0.538303  1.040303  0.482303  0.385303  0.576303   \n",
       "5         0.409266  0.334266  0.870266  0.364266  0.629266  0.322266   \n",
       "\n",
       "variable                                          ... accuracy                 \\\n",
       "trial          7         8         9         10   ...      391  392  393  394   \n",
       "sample                                            ...                           \n",
       "1         0.429083  0.368083  0.540083  0.536083  ...      1.0  1.0  1.0  1.0   \n",
       "2         0.460420  0.694420  0.423420  0.906420  ...      1.0  1.0  1.0  0.0   \n",
       "3         0.435692  0.325692  0.430692  0.654692  ...      0.0  1.0  1.0  1.0   \n",
       "4         0.392303  0.443303  0.884303  1.356303  ...      1.0  1.0  1.0  1.0   \n",
       "5         0.459266  0.541266  0.592266  0.616266  ...      1.0  1.0  1.0  0.0   \n",
       "\n",
       "variable                                \n",
       "trial     395  396  397  398  399  400  \n",
       "sample                                  \n",
       "1         1.0  1.0  1.0  1.0  1.0  1.0  \n",
       "2         1.0  1.0  0.0  1.0  1.0  1.0  \n",
       "3         1.0  1.0  1.0  1.0  1.0  0.0  \n",
       "4         1.0  1.0  1.0  1.0  1.0  0.0  \n",
       "5         0.0  1.0  1.0  0.0  0.0  1.0  \n",
       "\n",
       "[5 rows x 800 columns]"
      ]
     },
     "execution_count": 20,
     "metadata": {},
     "output_type": "execute_result"
    }
   ],
   "source": [
    "pp.head()"
   ]
  },
  {
   "cell_type": "markdown",
   "metadata": {},
   "source": [
    "#### Posterior predictives summaries:"
   ]
  },
  {
   "cell_type": "code",
   "execution_count": 21,
   "metadata": {},
   "outputs": [],
   "source": [
    "pp_summary = model_fit.get_posterior_predictives_summary(n_posterior_predictives=500)"
   ]
  },
  {
   "cell_type": "code",
   "execution_count": 22,
   "metadata": {},
   "outputs": [
    {
     "data": {
      "text/html": [
       "<div>\n",
       "<style scoped>\n",
       "    .dataframe tbody tr th:only-of-type {\n",
       "        vertical-align: middle;\n",
       "    }\n",
       "\n",
       "    .dataframe tbody tr th {\n",
       "        vertical-align: top;\n",
       "    }\n",
       "\n",
       "    .dataframe thead th {\n",
       "        text-align: right;\n",
       "    }\n",
       "</style>\n",
       "<table border=\"1\" class=\"dataframe\">\n",
       "  <thead>\n",
       "    <tr style=\"text-align: right;\">\n",
       "      <th></th>\n",
       "      <th>mean_acc</th>\n",
       "      <th>mean_rt</th>\n",
       "      <th>skew_rt</th>\n",
       "      <th>quant_10_rt_up</th>\n",
       "      <th>quant_30_rt_up</th>\n",
       "      <th>quant_50_rt_up</th>\n",
       "      <th>quant_70_rt_up</th>\n",
       "      <th>quant_90_rt_up</th>\n",
       "      <th>quant_10_rt_low</th>\n",
       "      <th>quant_30_rt_low</th>\n",
       "      <th>quant_50_rt_low</th>\n",
       "      <th>quant_70_rt_low</th>\n",
       "      <th>quant_90_rt_low</th>\n",
       "    </tr>\n",
       "  </thead>\n",
       "  <tbody>\n",
       "    <tr>\n",
       "      <td>0</td>\n",
       "      <td>0.8125</td>\n",
       "      <td>0.632896</td>\n",
       "      <td>1.719865</td>\n",
       "      <td>0.331483</td>\n",
       "      <td>0.412283</td>\n",
       "      <td>0.500083</td>\n",
       "      <td>0.693883</td>\n",
       "      <td>1.112083</td>\n",
       "      <td>0.403883</td>\n",
       "      <td>0.458283</td>\n",
       "      <td>0.534083</td>\n",
       "      <td>0.689083</td>\n",
       "      <td>1.084883</td>\n",
       "    </tr>\n",
       "    <tr>\n",
       "      <td>1</td>\n",
       "      <td>0.7950</td>\n",
       "      <td>0.602282</td>\n",
       "      <td>2.749183</td>\n",
       "      <td>0.311120</td>\n",
       "      <td>0.377620</td>\n",
       "      <td>0.465420</td>\n",
       "      <td>0.596020</td>\n",
       "      <td>0.982520</td>\n",
       "      <td>0.385620</td>\n",
       "      <td>0.495720</td>\n",
       "      <td>0.571920</td>\n",
       "      <td>0.700720</td>\n",
       "      <td>1.215920</td>\n",
       "    </tr>\n",
       "    <tr>\n",
       "      <td>2</td>\n",
       "      <td>0.7925</td>\n",
       "      <td>0.638415</td>\n",
       "      <td>2.195681</td>\n",
       "      <td>0.307692</td>\n",
       "      <td>0.390292</td>\n",
       "      <td>0.500692</td>\n",
       "      <td>0.689292</td>\n",
       "      <td>1.090692</td>\n",
       "      <td>0.386892</td>\n",
       "      <td>0.488092</td>\n",
       "      <td>0.603692</td>\n",
       "      <td>0.848892</td>\n",
       "      <td>1.171892</td>\n",
       "    </tr>\n",
       "    <tr>\n",
       "      <td>3</td>\n",
       "      <td>0.7850</td>\n",
       "      <td>0.598815</td>\n",
       "      <td>1.830859</td>\n",
       "      <td>0.321203</td>\n",
       "      <td>0.386203</td>\n",
       "      <td>0.460803</td>\n",
       "      <td>0.643803</td>\n",
       "      <td>1.027803</td>\n",
       "      <td>0.344303</td>\n",
       "      <td>0.483803</td>\n",
       "      <td>0.600303</td>\n",
       "      <td>0.724303</td>\n",
       "      <td>0.983803</td>\n",
       "    </tr>\n",
       "    <tr>\n",
       "      <td>4</td>\n",
       "      <td>0.8000</td>\n",
       "      <td>0.631164</td>\n",
       "      <td>1.881224</td>\n",
       "      <td>0.326766</td>\n",
       "      <td>0.425966</td>\n",
       "      <td>0.543266</td>\n",
       "      <td>0.684866</td>\n",
       "      <td>1.041466</td>\n",
       "      <td>0.393066</td>\n",
       "      <td>0.499966</td>\n",
       "      <td>0.593766</td>\n",
       "      <td>0.726166</td>\n",
       "      <td>1.075366</td>\n",
       "    </tr>\n",
       "  </tbody>\n",
       "</table>\n",
       "</div>"
      ],
      "text/plain": [
       "   mean_acc   mean_rt   skew_rt  quant_10_rt_up  quant_30_rt_up  \\\n",
       "0    0.8125  0.632896  1.719865        0.331483        0.412283   \n",
       "1    0.7950  0.602282  2.749183        0.311120        0.377620   \n",
       "2    0.7925  0.638415  2.195681        0.307692        0.390292   \n",
       "3    0.7850  0.598815  1.830859        0.321203        0.386203   \n",
       "4    0.8000  0.631164  1.881224        0.326766        0.425966   \n",
       "\n",
       "   quant_50_rt_up  quant_70_rt_up  quant_90_rt_up  quant_10_rt_low  \\\n",
       "0        0.500083        0.693883        1.112083         0.403883   \n",
       "1        0.465420        0.596020        0.982520         0.385620   \n",
       "2        0.500692        0.689292        1.090692         0.386892   \n",
       "3        0.460803        0.643803        1.027803         0.344303   \n",
       "4        0.543266        0.684866        1.041466         0.393066   \n",
       "\n",
       "   quant_30_rt_low  quant_50_rt_low  quant_70_rt_low  quant_90_rt_low  \n",
       "0         0.458283         0.534083         0.689083         1.084883  \n",
       "1         0.495720         0.571920         0.700720         1.215920  \n",
       "2         0.488092         0.603692         0.848892         1.171892  \n",
       "3         0.483803         0.600303         0.724303         0.983803  \n",
       "4         0.499966         0.593766         0.726166         1.075366  "
      ]
     },
     "execution_count": 22,
     "metadata": {},
     "output_type": "execute_result"
    }
   ],
   "source": [
    "pp_summary.head()"
   ]
  },
  {
   "cell_type": "markdown",
   "metadata": {},
   "source": [
    "#### Plot posterior predictives:"
   ]
  },
  {
   "cell_type": "code",
   "execution_count": 23,
   "metadata": {},
   "outputs": [
    {
     "data": {
      "image/png": "[encoded data removed]",
      "text/plain": [
       "<Figure size 1440x576 with 2 Axes>"
      ]
     },
     "metadata": {},
     "output_type": "display_data"
    }
   ],
   "source": [
    "model_fit.plot_mean_posterior_predictives(n_posterior_predictives=500, show_intervals='HDI')"
   ]
  },
  {
   "cell_type": "markdown",
   "metadata": {},
   "source": [
    "#### Plot quantiles:"
   ]
  },
  {
   "cell_type": "code",
   "execution_count": 24,
   "metadata": {},
   "outputs": [
    {
     "data": {
      "image/png": "[encoded data removed]",
      "text/plain": [
       "<Figure size 1440x576 with 2 Axes>"
      ]
     },
     "metadata": {},
     "output_type": "display_data"
    }
   ],
   "source": [
    "model_fit.plot_quantiles_posterior_predictives(kind='shades')"
   ]
  },
  {
   "cell_type": "markdown",
   "metadata": {},
   "source": [
    "### Get starting values for further sampling"
   ]
  },
  {
   "cell_type": "code",
   "execution_count": 25,
   "metadata": {},
   "outputs": [
    {
     "data": {
      "text/html": [
       "<div>\n",
       "<style scoped>\n",
       "    .dataframe tbody tr th:only-of-type {\n",
       "        vertical-align: middle;\n",
       "    }\n",
       "\n",
       "    .dataframe tbody tr th {\n",
       "        vertical-align: top;\n",
       "    }\n",
       "\n",
       "    .dataframe thead th {\n",
       "        text-align: right;\n",
       "    }\n",
       "</style>\n",
       "<table border=\"1\" class=\"dataframe\">\n",
       "  <thead>\n",
       "    <tr style=\"text-align: right;\">\n",
       "      <th></th>\n",
       "      <th>chain</th>\n",
       "      <th>draw</th>\n",
       "      <th>warmup</th>\n",
       "      <th>drift</th>\n",
       "      <th>ndt</th>\n",
       "      <th>rel_sp</th>\n",
       "      <th>threshold</th>\n",
       "    </tr>\n",
       "  </thead>\n",
       "  <tbody>\n",
       "    <tr>\n",
       "      <td>499</td>\n",
       "      <td>0</td>\n",
       "      <td>499</td>\n",
       "      <td>0</td>\n",
       "      <td>0.869806</td>\n",
       "      <td>-1.436744</td>\n",
       "      <td>0.187767</td>\n",
       "      <td>0.267553</td>\n",
       "    </tr>\n",
       "    <tr>\n",
       "      <td>999</td>\n",
       "      <td>1</td>\n",
       "      <td>499</td>\n",
       "      <td>0</td>\n",
       "      <td>0.616195</td>\n",
       "      <td>-1.446949</td>\n",
       "      <td>0.239987</td>\n",
       "      <td>0.257146</td>\n",
       "    </tr>\n",
       "  </tbody>\n",
       "</table>\n",
       "</div>"
      ],
      "text/plain": [
       "     chain  draw  warmup     drift       ndt    rel_sp  threshold\n",
       "499      0   499       0  0.869806 -1.436744  0.187767   0.267553\n",
       "999      1   499       0  0.616195 -1.446949  0.239987   0.257146"
      ]
     },
     "execution_count": 25,
     "metadata": {},
     "output_type": "execute_result"
    }
   ],
   "source": [
    "sv = model_fit.get_starting_values()\n",
    "sv"
   ]
  }
 ],
 "metadata": {
  "kernelspec": {
   "display_name": "Python 3",
   "language": "python",
   "name": "python3"
  },
  "language_info": {
   "codemirror_mode": {
    "name": "ipython",
    "version": 3
   },
   "file_extension": ".py",
   "mimetype": "text/x-python",
   "name": "python",
   "nbconvert_exporter": "python",
   "pygments_lexer": "ipython3",
   "version": "3.7.4"
  }
 },
 "nbformat": 4,
 "nbformat_minor": 2
}
