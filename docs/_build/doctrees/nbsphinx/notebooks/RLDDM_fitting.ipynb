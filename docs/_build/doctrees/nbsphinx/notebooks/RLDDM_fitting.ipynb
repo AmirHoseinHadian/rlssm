{
 "cells": [
  {
   "cell_type": "markdown",
   "metadata": {},
   "source": [
    "# Fit the RLDDM on individual data"
   ]
  },
  {
   "cell_type": "code",
   "execution_count": 2,
   "metadata": {},
   "outputs": [],
   "source": [
    "import rlssm\n",
    "import pandas as pd\n",
    "import os"
   ]
  },
  {
   "cell_type": "markdown",
   "metadata": {},
   "source": [
    "## Import the data"
   ]
  },
  {
   "cell_type": "code",
   "execution_count": null,
   "metadata": {},
   "outputs": [],
   "source": [
    "par_path = os.path.abspath(os.path.join(os.getcwd(), os.pardir, os.pardir))\n",
    "data_path = os.path.join(par_path, 'data/data_experiment.csv')\n",
    "data = pd.read_csv(data_path, index_col=0)\n",
    "\n",
    "data = data[data.participant == 10].reset_index(drop=True) # Only select 1 participant\n",
    "\n",
    "data.head()"
   ]
  },
  {
   "cell_type": "markdown",
   "metadata": {},
   "source": [
    "## Initialize the model"
   ]
  },
  {
   "cell_type": "code",
   "execution_count": null,
   "metadata": {},
   "outputs": [],
   "source": [
    "# Select model mechanisms:\n",
    "model = rlssm.RLDDModel(hierarchical_levels=1,\n",
    "                        separate_learning_rates=False,\n",
    "                        threshold_modulation=True,\n",
    "                        nonlinear_mapping=False)"
   ]
  },
  {
   "cell_type": "markdown",
   "metadata": {},
   "source": [
    "### Fit"
   ]
  },
  {
   "cell_type": "code",
   "execution_count": null,
   "metadata": {},
   "outputs": [],
   "source": [
    "# sampling parameters\n",
    "n_iter = 1000\n",
    "n_chains = 2\n",
    "n_thin = 5\n",
    "\n",
    "# learning parameters\n",
    "K = 4 # n options\n",
    "initial_value_learning = 27.5 # intitial value (Q0)\n",
    "\n",
    "# bayesian model\n",
    "alpha_priors = None\n",
    "drift_scaling_priors = None\n",
    "threshold_priors = None\n",
    "ndt_priors = None"
   ]
  },
  {
   "cell_type": "code",
   "execution_count": null,
   "metadata": {},
   "outputs": [],
   "source": [
    "model_fit = model.fit(\n",
    "    data,\n",
    "    K,\n",
    "    initial_value_learning,\n",
    "    alpha_priors=alpha_priors,\n",
    "    drift_scaling_priors=drift_scaling_priors,\n",
    "    threshold_priors=threshold_priors,\n",
    "    ndt_priors=ndt_priors,\n",
    "    thin = n_thin,\n",
    "    iter = n_iter,\n",
    "    chains = n_chains)"
   ]
  },
  {
   "cell_type": "markdown",
   "metadata": {},
   "source": [
    "#### get Rhat"
   ]
  },
  {
   "cell_type": "code",
   "execution_count": null,
   "metadata": {},
   "outputs": [],
   "source": [
    "model_fit.rhat.describe()"
   ]
  },
  {
   "cell_type": "code",
   "execution_count": null,
   "metadata": {},
   "outputs": [],
   "source": [
    "model_fit.rhat.head()"
   ]
  },
  {
   "cell_type": "markdown",
   "metadata": {},
   "source": [
    "#### get wAIC"
   ]
  },
  {
   "cell_type": "code",
   "execution_count": null,
   "metadata": {},
   "outputs": [],
   "source": [
    "model_fit.waic"
   ]
  },
  {
   "cell_type": "markdown",
   "metadata": {},
   "source": [
    "### Posteriors"
   ]
  },
  {
   "cell_type": "code",
   "execution_count": null,
   "metadata": {},
   "outputs": [],
   "source": [
    "model_fit.samples"
   ]
  },
  {
   "cell_type": "code",
   "execution_count": null,
   "metadata": {},
   "outputs": [],
   "source": [
    "model_fit.trial_samples"
   ]
  },
  {
   "cell_type": "code",
   "execution_count": null,
   "metadata": {},
   "outputs": [],
   "source": [
    "import seaborn as sns\n",
    "sns.set(context = \"talk\", \n",
    "        style = \"white\", \n",
    "        palette = \"husl\",\n",
    "        rc={'figure.figsize':(15, 8)})"
   ]
  },
  {
   "cell_type": "code",
   "execution_count": null,
   "metadata": {},
   "outputs": [],
   "source": [
    "model_fit.plot_posteriors(height=5, show_intervals='HDI');"
   ]
  },
  {
   "cell_type": "markdown",
   "metadata": {},
   "source": [
    "### Posterior predictives"
   ]
  },
  {
   "cell_type": "markdown",
   "metadata": {},
   "source": [
    "#### Ungrouped"
   ]
  },
  {
   "cell_type": "code",
   "execution_count": null,
   "metadata": {},
   "outputs": [],
   "source": [
    "pp = model_fit.get_posterior_predictives_df(n_posterior_predictives=100)\n",
    "pp"
   ]
  },
  {
   "cell_type": "code",
   "execution_count": null,
   "metadata": {},
   "outputs": [],
   "source": []
  },
  {
   "cell_type": "code",
   "execution_count": null,
   "metadata": {},
   "outputs": [],
   "source": [
    "pp_summary = model_fit.get_posterior_predictives_summary(n_posterior_predictives=100)\n",
    "pp_summary"
   ]
  },
  {
   "cell_type": "code",
   "execution_count": null,
   "metadata": {},
   "outputs": [],
   "source": [
    "model_fit.plot_mean_posterior_predictives(n_posterior_predictives=100, figsize=(20,8), show_intervals='HDI');"
   ]
  },
  {
   "cell_type": "code",
   "execution_count": null,
   "metadata": {},
   "outputs": [],
   "source": [
    "model_fit.plot_quantiles_posterior_predictives(n_posterior_predictives=100, kind='shades');"
   ]
  },
  {
   "cell_type": "markdown",
   "metadata": {},
   "source": [
    "#### Grouped"
   ]
  },
  {
   "cell_type": "code",
   "execution_count": null,
   "metadata": {},
   "outputs": [],
   "source": [
    "import numpy as np"
   ]
  },
  {
   "cell_type": "code",
   "execution_count": null,
   "metadata": {},
   "outputs": [],
   "source": [
    "data['choice_pair'] = 'AB'\n",
    "data.loc[(data.cor_option == 3) & (data.inc_option == 1), 'choice_pair'] = 'AC'\n",
    "data.loc[(data.cor_option == 4) & (data.inc_option == 2), 'choice_pair'] = 'BD'\n",
    "data.loc[(data.cor_option == 4) & (data.inc_option == 3), 'choice_pair'] = 'CD'\n",
    "\n",
    "data['block_bins'] = pd.cut(data.trial_block, 8, labels=np.arange(1, 9))"
   ]
  },
  {
   "cell_type": "code",
   "execution_count": null,
   "metadata": {},
   "outputs": [],
   "source": [
    "data.head()"
   ]
  },
  {
   "cell_type": "code",
   "execution_count": null,
   "metadata": {},
   "outputs": [],
   "source": [
    "model_fit.get_grouped_posterior_predictives_summary(\n",
    "                grouping_vars=['block_label', 'choice_pair'],\n",
    "                quantiles=[.3, .5, .7],\n",
    "                n_posterior_predictives=100)"
   ]
  },
  {
   "cell_type": "code",
   "execution_count": null,
   "metadata": {},
   "outputs": [],
   "source": [
    "model_fit.get_grouped_posterior_predictives_summary(\n",
    "                grouping_vars=['block_bins'],\n",
    "                quantiles=[.3, .5, .7],\n",
    "                n_posterior_predictives=100)"
   ]
  },
  {
   "cell_type": "code",
   "execution_count": null,
   "metadata": {},
   "outputs": [],
   "source": [
    "model_fit.plot_mean_grouped_posterior_predictives(grouping_vars=['block_bins'], \n",
    "                                                  n_posterior_predictives=100, \n",
    "                                                  figsize=(20,8));"
   ]
  },
  {
   "cell_type": "code",
   "execution_count": null,
   "metadata": {},
   "outputs": [],
   "source": [
    "model_fit.plot_quantiles_grouped_posterior_predictives(n_posterior_predictives=100,\n",
    "                                                        grouping_var='choice_pair',\n",
    "                                                        kind='shades',\n",
    "                                                        quantiles=[.1, .3, .5, .7, .9]);"
   ]
  },
  {
   "cell_type": "code",
   "execution_count": null,
   "metadata": {},
   "outputs": [],
   "source": [
    "model_fit.plot_quantiles_grouped_posterior_predictives(\n",
    "    n_posterior_predictives=300,\n",
    "    grouping_var='choice_pair',\n",
    "    palette = sns.color_palette('husl'),\n",
    "    intervals_kws={'alpha': .3, 'lw':8},\n",
    "    hue_order=['AB', 'AC', 'BD', 'CD'],\n",
    "    hue_labels=['ab', 'ac', 'bd', 'cd']);"
   ]
  },
  {
   "cell_type": "markdown",
   "metadata": {},
   "source": [
    "### Get starting values for further sampling"
   ]
  },
  {
   "cell_type": "code",
   "execution_count": null,
   "metadata": {},
   "outputs": [],
   "source": [
    "sv = model_fit.last_values\n",
    "sv"
   ]
  },
  {
   "cell_type": "code",
   "execution_count": null,
   "metadata": {},
   "outputs": [],
   "source": []
  }
 ],
 "metadata": {
  "kernelspec": {
   "display_name": "Python 3",
   "language": "python",
   "name": "python3"
  },
  "language_info": {
   "codemirror_mode": {
    "name": "ipython",
    "version": 3
   },
   "file_extension": ".py",
   "mimetype": "text/x-python",
   "name": "python",
   "nbconvert_exporter": "python",
   "pygments_lexer": "ipython3",
   "version": "3.7.9"
  }
 },
 "nbformat": 4,
 "nbformat_minor": 4
}
