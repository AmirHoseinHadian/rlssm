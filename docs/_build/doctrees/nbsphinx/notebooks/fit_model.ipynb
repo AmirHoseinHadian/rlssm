{
 "cells": [
  {
   "cell_type": "markdown",
   "id": "introductory-nashville",
   "metadata": {
    "pycharm": {
     "name": "#%% md\n"
    }
   },
   "source": [
    "# How to fit a model"
   ]
  },
  {
   "cell_type": "markdown",
   "id": "descending-plate",
   "metadata": {
    "pycharm": {
     "name": "#%% md\n"
    }
   },
   "source": [
    "To fit a model, there are 3 main things to specify:\n",
    "\n",
    "**1. Data:**\n",
    "The `data`, which should be in the form of a pandas DataFrame.\n",
    "\n",
    "Different model classes might require different columns in the data. You should check in the [API Reference](https://rlssm.readthedocs.io/en/latest/models/model_classes.html) of each model class (or using `model.fit?`) what the required data columns are.\n",
    "\n",
    "**2. The priors (optional):**\n",
    "You can decide whether to use the default priors (which you can see after initializing the model) or whether you want to change the mean or SD of the prior or hyper-prior distributions. Whether you changed the priors or not, they are always printed out when the model starts fitting.\n",
    "\n",
    "**3. Sampling parameters:**\n",
    "The sampling parameters **(number of chains, iterations, warmups, thinning, etc.)** are the arguments to the `pystan.StanModel.sampling()` function, and we simply refer to the [pystan documentation](https://pystan.readthedocs.io/) for a better overview.\n",
    "\n",
    "**Additional learning parameters:**\n",
    "While all sequential sampling models (DDM and race models) **without a learning component** only require a `data` argument, all models with a learning components (RL models, RLDDMs, and RL+race models) also require a `K` argument, which is the total number of different options in a learning block (note that this can be different from the number of options presented in each trial), and `initial_value_learning`, which is the initial Q value (before learning)."
   ]
  },
  {
   "cell_type": "code",
   "execution_count": 1,
   "id": "associate-police",
   "metadata": {
    "pycharm": {
     "name": "#%%\n"
    }
   },
   "outputs": [],
   "source": [
    "from rlssm.model.models_DDM import DDModel\n",
    "from rlssm.model.models_RL import RLModel_2A\n",
    "from rlssm.utility.load_data import load_example_dataset\n",
    "from rlssm.utility.utils import load_model_results"
   ]
  },
  {
   "cell_type": "markdown",
   "id": "electrical-factor",
   "metadata": {
    "pycharm": {
     "name": "#%% md\n"
    }
   },
   "source": [
    "## Non-learning example (non-hierarchical, simulated data)"
   ]
  },
  {
   "cell_type": "code",
   "execution_count": 2,
   "id": "flying-stomach",
   "metadata": {
    "pycharm": {
     "name": "#%%\n"
    }
   },
   "outputs": [
    {
     "name": "stdout",
     "output_type": "stream",
     "text": [
      "Using cached StanModel\n"
     ]
    }
   ],
   "source": [
    "model_ddm = DDModel(hierarchical_levels=1)"
   ]
  },
  {
   "cell_type": "code",
   "execution_count": 3,
   "id": "aggregate-northern",
   "metadata": {
    "pycharm": {
     "name": "#%%\n"
    }
   },
   "outputs": [],
   "source": [
    "# simulate some DDM data:\n",
    "from rlssm.random.random_DDM import simulate_ddm\n",
    "data_ddm = simulate_ddm(\n",
    "    n_trials=400, \n",
    "    gen_drift=.8, \n",
    "    gen_threshold=1.3, \n",
    "    gen_ndt=.23)"
   ]
  },
  {
   "cell_type": "markdown",
   "id": "direct-anaheim",
   "metadata": {
    "pycharm": {
     "name": "#%% md\n"
    }
   },
   "source": [
    "For the simple, non-hierarchical DDM, it is only necessary to have `rt` and `accuracy` columns:\n",
    "\n",
    "- *rt*, response times in seconds.\n",
    "\n",
    "- *accuracy*, 0 if the incorrect option was chosen, 1 if the correct option was chosen."
   ]
  },
  {
   "cell_type": "code",
   "execution_count": 4,
   "id": "expired-kruger",
   "metadata": {
    "pycharm": {
     "name": "#%%\n"
    }
   },
   "outputs": [
    {
     "data": {
      "text/html": [
       "<div>\n",
       "<style scoped>\n",
       "    .dataframe tbody tr th:only-of-type {\n",
       "        vertical-align: middle;\n",
       "    }\n",
       "\n",
       "    .dataframe tbody tr th {\n",
       "        vertical-align: top;\n",
       "    }\n",
       "\n",
       "    .dataframe thead th {\n",
       "        text-align: right;\n",
       "    }\n",
       "</style>\n",
       "<table border=\"1\" class=\"dataframe\">\n",
       "  <thead>\n",
       "    <tr style=\"text-align: right;\">\n",
       "      <th></th>\n",
       "      <th></th>\n",
       "      <th>drift</th>\n",
       "      <th>rel_sp</th>\n",
       "      <th>threshold</th>\n",
       "      <th>ndt</th>\n",
       "      <th>rt</th>\n",
       "      <th>accuracy</th>\n",
       "    </tr>\n",
       "    <tr>\n",
       "      <th>participant</th>\n",
       "      <th>trial</th>\n",
       "      <th></th>\n",
       "      <th></th>\n",
       "      <th></th>\n",
       "      <th></th>\n",
       "      <th></th>\n",
       "      <th></th>\n",
       "    </tr>\n",
       "  </thead>\n",
       "  <tbody>\n",
       "    <tr>\n",
       "      <th rowspan=\"5\" valign=\"top\">1</th>\n",
       "      <th>1</th>\n",
       "      <td>0.8</td>\n",
       "      <td>0.5</td>\n",
       "      <td>1.3</td>\n",
       "      <td>0.23</td>\n",
       "      <td>0.319</td>\n",
       "      <td>1.0</td>\n",
       "    </tr>\n",
       "    <tr>\n",
       "      <th>2</th>\n",
       "      <td>0.8</td>\n",
       "      <td>0.5</td>\n",
       "      <td>1.3</td>\n",
       "      <td>0.23</td>\n",
       "      <td>0.858</td>\n",
       "      <td>0.0</td>\n",
       "    </tr>\n",
       "    <tr>\n",
       "      <th>3</th>\n",
       "      <td>0.8</td>\n",
       "      <td>0.5</td>\n",
       "      <td>1.3</td>\n",
       "      <td>0.23</td>\n",
       "      <td>0.401</td>\n",
       "      <td>1.0</td>\n",
       "    </tr>\n",
       "    <tr>\n",
       "      <th>4</th>\n",
       "      <td>0.8</td>\n",
       "      <td>0.5</td>\n",
       "      <td>1.3</td>\n",
       "      <td>0.23</td>\n",
       "      <td>0.416</td>\n",
       "      <td>1.0</td>\n",
       "    </tr>\n",
       "    <tr>\n",
       "      <th>5</th>\n",
       "      <td>0.8</td>\n",
       "      <td>0.5</td>\n",
       "      <td>1.3</td>\n",
       "      <td>0.23</td>\n",
       "      <td>0.522</td>\n",
       "      <td>1.0</td>\n",
       "    </tr>\n",
       "  </tbody>\n",
       "</table>\n",
       "</div>"
      ],
      "text/plain": [
       "                   drift  rel_sp  threshold   ndt     rt  accuracy\n",
       "participant trial                                                 \n",
       "1           1        0.8     0.5        1.3  0.23  0.319       1.0\n",
       "            2        0.8     0.5        1.3  0.23  0.858       0.0\n",
       "            3        0.8     0.5        1.3  0.23  0.401       1.0\n",
       "            4        0.8     0.5        1.3  0.23  0.416       1.0\n",
       "            5        0.8     0.5        1.3  0.23  0.522       1.0"
      ]
     },
     "execution_count": 4,
     "metadata": {},
     "output_type": "execute_result"
    }
   ],
   "source": [
    "data_ddm.head()"
   ]
  },
  {
   "cell_type": "code",
   "execution_count": 5,
   "id": "verified-daughter",
   "metadata": {
    "pycharm": {
     "name": "#%%\n"
    }
   },
   "outputs": [
    {
     "name": "stderr",
     "output_type": "stream",
     "text": [
      "10:22:50 - cmdstanpy - INFO - CmdStan start processing\n"
     ]
    },
    {
     "name": "stdout",
     "output_type": "stream",
     "text": [
      "Fitting the model using the priors:\n",
      "drift_priors {'mu': 0.5, 'sd': 1}\n",
      "threshold_priors {'mu': 0, 'sd': 0.5}\n",
      "ndt_priors {'mu': 0, 'sd': 0.1}\n"
     ]
    },
    {
     "data": {
      "application/vnd.jupyter.widget-view+json": {
       "model_id": "5235c270b673472f861f11bedbcc5932",
       "version_major": 2,
       "version_minor": 0
      },
      "text/plain": [
       "chain 1 |          | 00:00 Status"
      ]
     },
     "metadata": {},
     "output_type": "display_data"
    },
    {
     "data": {
      "application/vnd.jupyter.widget-view+json": {
       "model_id": "81473824b9874de2bba9b1e1502b20ce",
       "version_major": 2,
       "version_minor": 0
      },
      "text/plain": [
       "chain 2 |          | 00:00 Status"
      ]
     },
     "metadata": {},
     "output_type": "display_data"
    },
    {
     "name": "stdout",
     "output_type": "stream",
     "text": [
      "                                                                                                                                                                "
     ]
    },
    {
     "name": "stderr",
     "output_type": "stream",
     "text": [
      "10:23:02 - cmdstanpy - INFO - CmdStan done processing.\n",
      "10:23:02 - cmdstanpy - WARNING - Non-fatal error during sampling:\n",
      "Exception: wiener_lpdf: Random variable  = 0.319, but must be greater than nondecision time = 0.578729 (in '/home/andrei/PycharmProjects/rlssm/rlssm/stan_models/DDM/DDM.stan', line 43, column 1 to column 59)\n",
      "\tException: wiener_lpdf: Random variable  = 0.319, but must be greater than nondecision time = 0.648211 (in '/home/andrei/PycharmProjects/rlssm/rlssm/stan_models/DDM/DDM.stan', line 43, column 1 to column 59)\n",
      "\tException: wiener_lpdf: Random variable  = 0.319, but must be greater than nondecision time = 1.17118 (in '/home/andrei/PycharmProjects/rlssm/rlssm/stan_models/DDM/DDM.stan', line 43, column 1 to column 59)\n",
      "\tException: wiener_lpdf: Random variable  = 0.319, but must be greater than nondecision time = 1.18819 (in '/home/andrei/PycharmProjects/rlssm/rlssm/stan_models/DDM/DDM.stan', line 43, column 1 to column 59)\n",
      "\tException: wiener_lpdf: Random variable  = 0.28, but must be greater than nondecision time = 0.280395 (in '/home/andrei/PycharmProjects/rlssm/rlssm/stan_models/DDM/DDM.stan', line 43, column 1 to column 59)\n",
      "\tException: wiener_lpdf: Boundary separation[1] is inf, but must be positive finite! (in '/home/andrei/PycharmProjects/rlssm/rlssm/stan_models/DDM/DDM.stan', line 43, column 1 to column 59)\n",
      "\tException: wiener_lpdf: Boundary separation[1] is inf, but must be positive finite! (in '/home/andrei/PycharmProjects/rlssm/rlssm/stan_models/DDM/DDM.stan', line 43, column 1 to column 59)\n",
      "\tException: wiener_lpdf: Boundary separation[1] is inf, but must be positive finite! (in '/home/andrei/PycharmProjects/rlssm/rlssm/stan_models/DDM/DDM.stan', line 43, column 1 to column 59)\n",
      "\tException: wiener_lpdf: Random variable  = 0.319, but must be greater than nondecision time = 80.8202 (in '/home/andrei/PycharmProjects/rlssm/rlssm/stan_models/DDM/DDM.stan', line 43, column 1 to column 59)\n",
      "\tException: wiener_lpdf: Random variable  = 0.319, but must be greater than nondecision time = 19.1147 (in '/home/andrei/PycharmProjects/rlssm/rlssm/stan_models/DDM/DDM.stan', line 43, column 1 to column 59)\n",
      "\tException: wiener_lpdf: Random variable  = 0.319, but must be greater than nondecision time = 3.7066 (in '/home/andrei/PycharmProjects/rlssm/rlssm/stan_models/DDM/DDM.stan', line 43, column 1 to column 59)\n",
      "\tException: wiener_lpdf: Random variable  = 0.319, but must be greater than nondecision time = 0.601903 (in '/home/andrei/PycharmProjects/rlssm/rlssm/stan_models/DDM/DDM.stan', line 43, column 1 to column 59)\n",
      "\tException: wiener_lpdf: Boundary separation[1] is inf, but must be positive finite! (in '/home/andrei/PycharmProjects/rlssm/rlssm/stan_models/DDM/DDM.stan', line 43, column 1 to column 59)\n",
      "\tException: wiener_lpdf: Boundary separation[1] is inf, but must be positive finite! (in '/home/andrei/PycharmProjects/rlssm/rlssm/stan_models/DDM/DDM.stan', line 43, column 1 to column 59)\n",
      "\tException: wiener_lpdf: Nondecision time[1] is 0, but must be positive finite! (in '/home/andrei/PycharmProjects/rlssm/rlssm/stan_models/DDM/DDM.stan', line 43, column 1 to column 59)\n",
      "\tException: wiener_lpdf: Random variable  = 0.319, but must be greater than nondecision time = 0.37691 (in '/home/andrei/PycharmProjects/rlssm/rlssm/stan_models/DDM/DDM.stan', line 43, column 1 to column 59)\n",
      "\tException: wiener_lpdf: Random variable  = 0.297, but must be greater than nondecision time = 0.300521 (in '/home/andrei/PycharmProjects/rlssm/rlssm/stan_models/DDM/DDM.stan', line 43, column 1 to column 59)\n",
      "\tException: wiener_lpdf: Random variable  = 0.297, but must be greater than nondecision time = 0.298749 (in '/home/andrei/PycharmProjects/rlssm/rlssm/stan_models/DDM/DDM.stan', line 43, column 1 to column 59)\n",
      "Exception: wiener_lpdf: Random variable  = 0.286, but must be greater than nondecision time = 0.290036 (in '/home/andrei/PycharmProjects/rlssm/rlssm/stan_models/DDM/DDM.stan', line 43, column 1 to column 59)\n",
      "\tException: wiener_lpdf: Random variable  = 0.319, but must be greater than nondecision time = 0.487683 (in '/home/andrei/PycharmProjects/rlssm/rlssm/stan_models/DDM/DDM.stan', line 43, column 1 to column 59)\n",
      "\tException: wiener_lpdf: Random variable  = 0.319, but must be greater than nondecision time = 1.40855 (in '/home/andrei/PycharmProjects/rlssm/rlssm/stan_models/DDM/DDM.stan', line 43, column 1 to column 59)\n",
      "\tException: wiener_lpdf: Random variable  = 0.319, but must be greater than nondecision time = 0.555949 (in '/home/andrei/PycharmProjects/rlssm/rlssm/stan_models/DDM/DDM.stan', line 43, column 1 to column 59)\n",
      "\tException: wiener_lpdf: Random variable  = 0.319, but must be greater than nondecision time = 0.657909 (in '/home/andrei/PycharmProjects/rlssm/rlssm/stan_models/DDM/DDM.stan', line 43, column 1 to column 59)\n",
      "\tException: wiener_lpdf: Random variable  = 0.319, but must be greater than nondecision time = 0.455684 (in '/home/andrei/PycharmProjects/rlssm/rlssm/stan_models/DDM/DDM.stan', line 43, column 1 to column 59)\n",
      "\tException: wiener_lpdf: Boundary separation[1] is inf, but must be positive finite! (in '/home/andrei/PycharmProjects/rlssm/rlssm/stan_models/DDM/DDM.stan', line 43, column 1 to column 59)\n",
      "\tException: wiener_lpdf: Boundary separation[1] is inf, but must be positive finite! (in '/home/andrei/PycharmProjects/rlssm/rlssm/stan_models/DDM/DDM.stan', line 43, column 1 to column 59)\n",
      "\tException: wiener_lpdf: Boundary separation[1] is inf, but must be positive finite! (in '/home/andrei/PycharmProjects/rlssm/rlssm/stan_models/DDM/DDM.stan', line 43, column 1 to column 59)\n",
      "\tException: wiener_lpdf: Random variable  = 0.319, but must be greater than nondecision time = 129.932 (in '/home/andrei/PycharmProjects/rlssm/rlssm/stan_models/DDM/DDM.stan', line 43, column 1 to column 59)\n",
      "\tException: wiener_lpdf: Random variable  = 0.319, but must be greater than nondecision time = 31.4826 (in '/home/andrei/PycharmProjects/rlssm/rlssm/stan_models/DDM/DDM.stan', line 43, column 1 to column 59)\n",
      "\tException: wiener_lpdf: Random variable  = 0.319, but must be greater than nondecision time = 7.08131 (in '/home/andrei/PycharmProjects/rlssm/rlssm/stan_models/DDM/DDM.stan', line 43, column 1 to column 59)\n",
      "\tException: wiener_lpdf: Random variable  = 0.319, but must be greater than nondecision time = 1.1986 (in '/home/andrei/PycharmProjects/rlssm/rlssm/stan_models/DDM/DDM.stan', line 43, column 1 to column 59)\n",
      "\tException: wiener_lpdf: Random variable  = 0.319, but must be greater than nondecision time = 0.404855 (in '/home/andrei/PycharmProjects/rlssm/rlssm/stan_models/DDM/DDM.stan', line 43, column 1 to column 59)\n",
      "\tException: wiener_lpdf: Random variable  = 0.286, but must be greater than nondecision time = 0.287259 (in '/home/andrei/PycharmProjects/rlssm/rlssm/stan_models/DDM/DDM.stan', line 43, column 1 to column 59)\n",
      "\tException: wiener_lpdf: Boundary separation[1] is inf, but must be positive finite! (in '/home/andrei/PycharmProjects/rlssm/rlssm/stan_models/DDM/DDM.stan', line 43, column 1 to column 59)\n",
      "\tException: wiener_lpdf: Boundary separation[1] is inf, but must be positive finite! (in '/home/andrei/PycharmProjects/rlssm/rlssm/stan_models/DDM/DDM.stan', line 43, column 1 to column 59)\n",
      "\tException: wiener_lpdf: Random variable  = 0.319, but must be greater than nondecision time = 106.181 (in '/home/andrei/PycharmProjects/rlssm/rlssm/stan_models/DDM/DDM.stan', line 43, column 1 to column 59)\n",
      "\tException: wiener_lpdf: Random variable  = 0.319, but must be greater than nondecision time = 0.454008 (in '/home/andrei/PycharmProjects/rlssm/rlssm/stan_models/DDM/DDM.stan', line 43, column 1 to column 59)\n",
      "\tException: wiener_lpdf: Random variable  = 0.276, but must be greater than nondecision time = 0.278578 (in '/home/andrei/PycharmProjects/rlssm/rlssm/stan_models/DDM/DDM.stan', line 43, column 1 to column 59)\n",
      "\tException: wiener_lpdf: Random variable  = 0.286, but must be greater than nondecision time = 0.293387 (in '/home/andrei/PycharmProjects/rlssm/rlssm/stan_models/DDM/DDM.stan', line 43, column 1 to column 59)\n",
      "\tException: wiener_lpdf: Random variable  = 0.319, but must be greater than nondecision time = 0.392222 (in '/home/andrei/PycharmProjects/rlssm/rlssm/stan_models/DDM/DDM.stan', line 43, column 1 to column 59)\n",
      "\tException: wiener_lpdf: Random variable  = 0.286, but must be greater than nondecision time = 0.2912 (in '/home/andrei/PycharmProjects/rlssm/rlssm/stan_models/DDM/DDM.stan', line 43, column 1 to column 59)\n",
      "\tException: wiener_lpdf: Random variable  = 0.319, but must be greater than nondecision time = 0.321864 (in '/home/andrei/PycharmProjects/rlssm/rlssm/stan_models/DDM/DDM.stan', line 43, column 1 to column 59)\n",
      "Consider re-running with show_console=True if the above output is unclear!\n"
     ]
    },
    {
     "name": "stdout",
     "output_type": "stream",
     "text": [
      "\n",
      "Checks MCMC diagnostics:\n",
      "n_eff / iter looks reasonable for all parameters\n",
      "0 of 4000 iterations saturated the maximum tree depth of 10 (0.0%)\n",
      "E-BFMI indicated no pathological behavior\n",
      "0.0 of 4000 iterations ended with a divergence (0.0%)\n"
     ]
    }
   ],
   "source": [
    "# Run 2 chains, with 2000 samples each, 1000 of which warmup, with custom priors:\n",
    "model_fit_ddm = model_ddm.fit(\n",
    "    data_ddm,\n",
    "    drift_priors={'mu':.5, 'sd':1},\n",
    "    threshold_priors={'mu':0, 'sd':.5},\n",
    "    ndt_priors={'mu':0, 'sd':.1},\n",
    "    chains=2,\n",
    "    iter_warmup=1000,\n",
    "    iter_sampling=2000,\n",
    "    thin=1)"
   ]
  },
  {
   "cell_type": "markdown",
   "id": "curious-alloy",
   "metadata": {
    "pycharm": {
     "name": "#%% md\n"
    }
   },
   "source": [
    "## Learning example (hierarchical, real data)"
   ]
  },
  {
   "cell_type": "code",
   "execution_count": 6,
   "id": "comparative-transportation",
   "metadata": {
    "pycharm": {
     "name": "#%%\n"
    }
   },
   "outputs": [
    {
     "name": "stderr",
     "output_type": "stream",
     "text": [
      "10:23:33 - cmdstanpy - INFO - compiling stan file /home/andrei/PycharmProjects/rlssm/rlssm/stan_models/RL_2A/hierRL_2A.stan to exe file /home/andrei/PycharmProjects/rlssm/rlssm/stan_models/RL_2A/hierRL_2A\n",
      "10:23:46 - cmdstanpy - INFO - compiled model executable: /home/andrei/PycharmProjects/rlssm/rlssm/stan_models/RL_2A/hierRL_2A\n",
      "10:23:46 - cmdstanpy - WARNING - Stan compiler has produced 12 warnings:\n",
      "10:23:46 - cmdstanpy - WARNING - \n",
      "--- Translating Stan model to C++ code ---\n",
      "bin/stanc  --o=/home/andrei/PycharmProjects/rlssm/rlssm/stan_models/RL_2A/hierRL_2A.hpp /home/andrei/PycharmProjects/rlssm/rlssm/stan_models/RL_2A/hierRL_2A.stan\n",
      "Warning in '/home/andrei/PycharmProjects/rlssm/rlssm/stan_models/RL_2A/hierRL_2A.stan', line 5, column 1: Declaration\n",
      "    of arrays by placing brackets after a variable name is deprecated and\n",
      "    will be removed in Stan 2.32.0. Instead use the array keyword before the\n",
      "    type. This can be changed automatically using the auto-format flag to\n",
      "    stanc\n",
      "Warning in '/home/andrei/PycharmProjects/rlssm/rlssm/stan_models/RL_2A/hierRL_2A.stan', line 6, column 1: Declaration\n",
      "    of arrays by placing brackets after a variable name is deprecated and\n",
      "    will be removed in Stan 2.32.0. Instead use the array keyword before the\n",
      "    type. This can be changed automatically using the auto-format flag to\n",
      "    stanc\n",
      "Warning in '/home/andrei/PycharmProjects/rlssm/rlssm/stan_models/RL_2A/hierRL_2A.stan', line 9, column 1: Declaration\n",
      "    of arrays by placing brackets after a variable name is deprecated and\n",
      "    will be removed in Stan 2.32.0. Instead use the array keyword before the\n",
      "    type. This can be changed automatically using the auto-format flag to\n",
      "    stanc\n",
      "Warning in '/home/andrei/PycharmProjects/rlssm/rlssm/stan_models/RL_2A/hierRL_2A.stan', line 10, column 1: Declaration\n",
      "    of arrays by placing brackets after a variable name is deprecated and\n",
      "    will be removed in Stan 2.32.0. Instead use the array keyword before the\n",
      "    type. This can be changed automatically using the auto-format flag to\n",
      "    stanc\n",
      "Warning in '/home/andrei/PycharmProjects/rlssm/rlssm/stan_models/RL_2A/hierRL_2A.stan', line 11, column 1: Declaration\n",
      "    of arrays by placing brackets after a variable name is deprecated and\n",
      "    will be removed in Stan 2.32.0. Instead use the array keyword before the\n",
      "    type. This can be changed automatically using the auto-format flag to\n",
      "    stanc\n",
      "Warning in '/home/andrei/PycharmProjects/rlssm/rlssm/stan_models/RL_2A/hierRL_2A.stan', line 12, column 1: Declaration\n",
      "    of arrays by placing brackets after a variable name is deprecated and\n",
      "    will be removed in Stan 2.32.0. Instead use the array keyword before the\n",
      "    type. This can be changed automatically using the auto-format flag to\n",
      "    stanc\n",
      "Warning in '/home/andrei/PycharmProjects/rlssm/rlssm/stan_models/RL_2A/hierRL_2A.stan', line 13, column 1: Declaration\n",
      "    of arrays by placing brackets after a variable name is deprecated and\n",
      "    will be removed in Stan 2.32.0. Instead use the array keyword before the\n",
      "    type. This can be changed automatically using the auto-format flag to\n",
      "    stanc\n",
      "Warning in '/home/andrei/PycharmProjects/rlssm/rlssm/stan_models/RL_2A/hierRL_2A.stan', line 29, column 1: Declaration\n",
      "    of arrays by placing brackets after a variable name is deprecated and\n",
      "    will be removed in Stan 2.32.0. Instead use the array keyword before the\n",
      "    type. This can be changed automatically using the auto-format flag to\n",
      "    stanc\n",
      "Warning in '/home/andrei/PycharmProjects/rlssm/rlssm/stan_models/RL_2A/hierRL_2A.stan', line 30, column 1: Declaration\n",
      "    of arrays by placing brackets after a variable name is deprecated and\n",
      "    will be removed in Stan 2.32.0. Instead use the array keyword before the\n",
      "    type. This can be changed automatically using the auto-format flag to\n",
      "    stanc\n",
      "Warning in '/home/andrei/PycharmProjects/rlssm/rlssm/stan_models/RL_2A/hierRL_2A.stan', line 33, column 1: Declaration\n",
      "    of arrays by placing brackets after a variable name is deprecated and\n",
      "    will be removed in Stan 2.32.0. Instead use the array keyword before the\n",
      "    type. This can be changed automatically using the auto-format flag to\n",
      "    stanc\n",
      "Warning in '/home/andrei/PycharmProjects/rlssm/rlssm/stan_models/RL_2A/hierRL_2A.stan', line 40, column 1: Declaration\n",
      "    of arrays by placing brackets after a variable name is deprecated and\n",
      "    will be removed in Stan 2.32.0. Instead use the array keyword before the\n",
      "    type. This can be changed automatically using the auto-format flag to\n",
      "    stanc\n",
      "Warning in '/home/andrei/PycharmProjects/rlssm/rlssm/stan_models/RL_2A/hierRL_2A.stan', line 41, column 1: Declaration\n",
      "    of arrays by placing brackets after a variable name is deprecated and\n",
      "    will be removed in Stan 2.32.0. Instead use the array keyword before the\n",
      "    type. This can be changed automatically using the auto-format flag to\n",
      "    stanc\n",
      "\n",
      "--- Compiling, linking C++ code ---\n",
      "g++ -std=c++1y -pthread -D_REENTRANT -Wno-sign-compare -Wno-ignored-attributes      -I stan/lib/stan_math/lib/tbb_2020.3/include    -O3 -I src -I stan/src -I lib/rapidjson_1.1.0/ -I lib/CLI11-1.9.1/ -I stan/lib/stan_math/ -I stan/lib/stan_math/lib/eigen_3.3.9 -I stan/lib/stan_math/lib/boost_1.78.0 -I stan/lib/stan_math/lib/sundials_6.1.1/include -I stan/lib/stan_math/lib/sundials_6.1.1/src/sundials    -DBOOST_DISABLE_ASSERTS          -c -Wno-ignored-attributes   -x c++ -o /home/andrei/PycharmProjects/rlssm/rlssm/stan_models/RL_2A/hierRL_2A.o /home/andrei/PycharmProjects/rlssm/rlssm/stan_models/RL_2A/hierRL_2A.hpp\n",
      "g++ -std=c++1y -pthread -D_REENTRANT -Wno-sign-compare -Wno-ignored-attributes      -I stan/lib/stan_math/lib/tbb_2020.3/include    -O3 -I src -I stan/src -I lib/rapidjson_1.1.0/ -I lib/CLI11-1.9.1/ -I stan/lib/stan_math/ -I stan/lib/stan_math/lib/eigen_3.3.9 -I stan/lib/stan_math/lib/boost_1.78.0 -I stan/lib/stan_math/lib/sundials_6.1.1/include -I stan/lib/stan_math/lib/sundials_6.1.1/src/sundials    -DBOOST_DISABLE_ASSERTS                -Wl,-L,\"/home/andrei/.cmdstan/cmdstan-2.30.0/stan/lib/stan_math/lib/tbb\" -Wl,-rpath,\"/home/andrei/.cmdstan/cmdstan-2.30.0/stan/lib/stan_math/lib/tbb\"      /home/andrei/PycharmProjects/rlssm/rlssm/stan_models/RL_2A/hierRL_2A.o src/cmdstan/main.o        -Wl,-L,\"/home/andrei/.cmdstan/cmdstan-2.30.0/stan/lib/stan_math/lib/tbb\" -Wl,-rpath,\"/home/andrei/.cmdstan/cmdstan-2.30.0/stan/lib/stan_math/lib/tbb\"   stan/lib/stan_math/lib/sundials_6.1.1/lib/libsundials_nvecserial.a stan/lib/stan_math/lib/sundials_6.1.1/lib/libsundials_cvodes.a stan/lib/stan_math/lib/sundials_6.1.1/lib/libsundials_idas.a stan/lib/stan_math/lib/sundials_6.1.1/lib/libsundials_kinsol.a  stan/lib/stan_math/lib/tbb/libtbb.so.2 -o /home/andrei/PycharmProjects/rlssm/rlssm/stan_models/RL_2A/hierRL_2A\n",
      "rm -f /home/andrei/PycharmProjects/rlssm/rlssm/stan_models/RL_2A/hierRL_2A.o\n",
      "\n"
     ]
    }
   ],
   "source": [
    "model_rl = RLModel_2A(hierarchical_levels = 2)"
   ]
  },
  {
   "cell_type": "code",
   "execution_count": 7,
   "id": "revised-museum",
   "metadata": {
    "pycharm": {
     "name": "#%%\n"
    }
   },
   "outputs": [
    {
     "data": {
      "text/html": [
       "<div>\n",
       "<style scoped>\n",
       "    .dataframe tbody tr th:only-of-type {\n",
       "        vertical-align: middle;\n",
       "    }\n",
       "\n",
       "    .dataframe tbody tr th {\n",
       "        vertical-align: top;\n",
       "    }\n",
       "\n",
       "    .dataframe thead th {\n",
       "        text-align: right;\n",
       "    }\n",
       "</style>\n",
       "<table border=\"1\" class=\"dataframe\">\n",
       "  <thead>\n",
       "    <tr style=\"text-align: right;\">\n",
       "      <th></th>\n",
       "      <th>participant</th>\n",
       "      <th>block_label</th>\n",
       "      <th>trial_block</th>\n",
       "      <th>f_cor</th>\n",
       "      <th>f_inc</th>\n",
       "      <th>cor_option</th>\n",
       "      <th>inc_option</th>\n",
       "      <th>times_seen</th>\n",
       "      <th>rt</th>\n",
       "      <th>accuracy</th>\n",
       "      <th>feedback_type</th>\n",
       "    </tr>\n",
       "  </thead>\n",
       "  <tbody>\n",
       "    <tr>\n",
       "      <th>0</th>\n",
       "      <td>1</td>\n",
       "      <td>1</td>\n",
       "      <td>1</td>\n",
       "      <td>43</td>\n",
       "      <td>39</td>\n",
       "      <td>2</td>\n",
       "      <td>1</td>\n",
       "      <td>1</td>\n",
       "      <td>1.244082</td>\n",
       "      <td>0</td>\n",
       "      <td>0</td>\n",
       "    </tr>\n",
       "    <tr>\n",
       "      <th>1</th>\n",
       "      <td>1</td>\n",
       "      <td>1</td>\n",
       "      <td>2</td>\n",
       "      <td>60</td>\n",
       "      <td>50</td>\n",
       "      <td>4</td>\n",
       "      <td>3</td>\n",
       "      <td>1</td>\n",
       "      <td>1.101821</td>\n",
       "      <td>1</td>\n",
       "      <td>0</td>\n",
       "    </tr>\n",
       "    <tr>\n",
       "      <th>2</th>\n",
       "      <td>1</td>\n",
       "      <td>1</td>\n",
       "      <td>3</td>\n",
       "      <td>44</td>\n",
       "      <td>36</td>\n",
       "      <td>4</td>\n",
       "      <td>2</td>\n",
       "      <td>2</td>\n",
       "      <td>1.029923</td>\n",
       "      <td>0</td>\n",
       "      <td>0</td>\n",
       "    </tr>\n",
       "    <tr>\n",
       "      <th>3</th>\n",
       "      <td>1</td>\n",
       "      <td>1</td>\n",
       "      <td>4</td>\n",
       "      <td>55</td>\n",
       "      <td>55</td>\n",
       "      <td>4</td>\n",
       "      <td>3</td>\n",
       "      <td>2</td>\n",
       "      <td>1.368007</td>\n",
       "      <td>0</td>\n",
       "      <td>0</td>\n",
       "    </tr>\n",
       "    <tr>\n",
       "      <th>4</th>\n",
       "      <td>1</td>\n",
       "      <td>1</td>\n",
       "      <td>5</td>\n",
       "      <td>52</td>\n",
       "      <td>49</td>\n",
       "      <td>4</td>\n",
       "      <td>3</td>\n",
       "      <td>3</td>\n",
       "      <td>1.039329</td>\n",
       "      <td>1</td>\n",
       "      <td>0</td>\n",
       "    </tr>\n",
       "  </tbody>\n",
       "</table>\n",
       "</div>"
      ],
      "text/plain": [
       "   participant  block_label  trial_block  f_cor  f_inc  cor_option  \\\n",
       "0            1            1            1     43     39           2   \n",
       "1            1            1            2     60     50           4   \n",
       "2            1            1            3     44     36           4   \n",
       "3            1            1            4     55     55           4   \n",
       "4            1            1            5     52     49           4   \n",
       "\n",
       "   inc_option  times_seen        rt  accuracy  feedback_type  \n",
       "0           1           1  1.244082         0              0  \n",
       "1           3           1  1.101821         1              0  \n",
       "2           2           2  1.029923         0              0  \n",
       "3           3           2  1.368007         0              0  \n",
       "4           3           3  1.039329         1              0  "
      ]
     },
     "execution_count": 7,
     "metadata": {},
     "output_type": "execute_result"
    }
   ],
   "source": [
    "# import some example data:\n",
    "data_rl = load_example_dataset(hierarchical_levels = 2)\n",
    "\n",
    "data_rl.head()"
   ]
  },
  {
   "cell_type": "markdown",
   "id": "respective-finger",
   "metadata": {
    "pycharm": {
     "name": "#%% md\n"
    }
   },
   "source": [
    "Since this learning model is only fit on choices, `rt` are not required.\n",
    "\n",
    "Other columns/indexes that should be included are:\n",
    "\n",
    "- *accuracy*, 0 if the incorrect option was chosen, 1 if the correct option was chosen.\n",
    "\n",
    "- *trial_block*, the number of trial in a learning session. Should be integers starting from 1.\n",
    "\n",
    "- *f_cor*, the output from the correct option in the presented pair (the option with higher outcome on average).\n",
    "\n",
    "- *f_inc*, the output from the incorrect option in the presented pair (the option with lower outcome on average).\n",
    "\n",
    "- *cor_option*, the number identifying the correct option in the presented pair (the option with higher outcome on average).\n",
    "\n",
    "- *inc_option*, the number identifying the incorrect option in the presented pair(the option with lower outcome on average).\n",
    "\n",
    "- *block_label*, the number identifying the learning session. Should be integers starting from 1. Set to 1 in case there is only one learning session.\n",
    "\n",
    "If the model is hierarchical, also include:\n",
    "\n",
    "- *participant*, the participant number. Should be integers starting from 1.\n",
    "\n",
    "If increasing_sensitivity is True, also include:\n",
    "\n",
    "- *times_seen*, average number of times the presented options have been seen in a learning session."
   ]
  },
  {
   "cell_type": "code",
   "execution_count": 8,
   "id": "diagnostic-norfolk",
   "metadata": {
    "pycharm": {
     "name": "#%%\n"
    }
   },
   "outputs": [
    {
     "data": {
      "text/html": [
       "<div>\n",
       "<style scoped>\n",
       "    .dataframe tbody tr th:only-of-type {\n",
       "        vertical-align: middle;\n",
       "    }\n",
       "\n",
       "    .dataframe tbody tr th {\n",
       "        vertical-align: top;\n",
       "    }\n",
       "\n",
       "    .dataframe thead th {\n",
       "        text-align: right;\n",
       "    }\n",
       "</style>\n",
       "<table border=\"1\" class=\"dataframe\">\n",
       "  <thead>\n",
       "    <tr style=\"text-align: right;\">\n",
       "      <th></th>\n",
       "      <th>participant</th>\n",
       "      <th>block_label</th>\n",
       "      <th>trial_block</th>\n",
       "      <th>f_cor</th>\n",
       "      <th>f_inc</th>\n",
       "      <th>cor_option</th>\n",
       "      <th>inc_option</th>\n",
       "      <th>times_seen</th>\n",
       "      <th>rt</th>\n",
       "      <th>accuracy</th>\n",
       "      <th>feedback_type</th>\n",
       "    </tr>\n",
       "  </thead>\n",
       "  <tbody>\n",
       "    <tr>\n",
       "      <th>0</th>\n",
       "      <td>1</td>\n",
       "      <td>1</td>\n",
       "      <td>1</td>\n",
       "      <td>43</td>\n",
       "      <td>39</td>\n",
       "      <td>2</td>\n",
       "      <td>1</td>\n",
       "      <td>1</td>\n",
       "      <td>1.244082</td>\n",
       "      <td>0</td>\n",
       "      <td>0</td>\n",
       "    </tr>\n",
       "    <tr>\n",
       "      <th>1</th>\n",
       "      <td>1</td>\n",
       "      <td>1</td>\n",
       "      <td>2</td>\n",
       "      <td>60</td>\n",
       "      <td>50</td>\n",
       "      <td>4</td>\n",
       "      <td>3</td>\n",
       "      <td>1</td>\n",
       "      <td>1.101821</td>\n",
       "      <td>1</td>\n",
       "      <td>0</td>\n",
       "    </tr>\n",
       "    <tr>\n",
       "      <th>2</th>\n",
       "      <td>1</td>\n",
       "      <td>1</td>\n",
       "      <td>3</td>\n",
       "      <td>44</td>\n",
       "      <td>36</td>\n",
       "      <td>4</td>\n",
       "      <td>2</td>\n",
       "      <td>2</td>\n",
       "      <td>1.029923</td>\n",
       "      <td>0</td>\n",
       "      <td>0</td>\n",
       "    </tr>\n",
       "    <tr>\n",
       "      <th>3</th>\n",
       "      <td>1</td>\n",
       "      <td>1</td>\n",
       "      <td>4</td>\n",
       "      <td>55</td>\n",
       "      <td>55</td>\n",
       "      <td>4</td>\n",
       "      <td>3</td>\n",
       "      <td>2</td>\n",
       "      <td>1.368007</td>\n",
       "      <td>0</td>\n",
       "      <td>0</td>\n",
       "    </tr>\n",
       "    <tr>\n",
       "      <th>4</th>\n",
       "      <td>1</td>\n",
       "      <td>1</td>\n",
       "      <td>5</td>\n",
       "      <td>52</td>\n",
       "      <td>49</td>\n",
       "      <td>4</td>\n",
       "      <td>3</td>\n",
       "      <td>3</td>\n",
       "      <td>1.039329</td>\n",
       "      <td>1</td>\n",
       "      <td>0</td>\n",
       "    </tr>\n",
       "  </tbody>\n",
       "</table>\n",
       "</div>"
      ],
      "text/plain": [
       "   participant  block_label  trial_block  f_cor  f_inc  cor_option  \\\n",
       "0            1            1            1     43     39           2   \n",
       "1            1            1            2     60     50           4   \n",
       "2            1            1            3     44     36           4   \n",
       "3            1            1            4     55     55           4   \n",
       "4            1            1            5     52     49           4   \n",
       "\n",
       "   inc_option  times_seen        rt  accuracy  feedback_type  \n",
       "0           1           1  1.244082         0              0  \n",
       "1           3           1  1.101821         1              0  \n",
       "2           2           2  1.029923         0              0  \n",
       "3           3           2  1.368007         0              0  \n",
       "4           3           3  1.039329         1              0  "
      ]
     },
     "execution_count": 8,
     "metadata": {},
     "output_type": "execute_result"
    }
   ],
   "source": [
    "data_rl.head()"
   ]
  },
  {
   "cell_type": "code",
   "execution_count": 9,
   "id": "trained-landscape",
   "metadata": {
    "pycharm": {
     "name": "#%%\n"
    }
   },
   "outputs": [
    {
     "name": "stderr",
     "output_type": "stream",
     "text": [
      "10:23:46 - cmdstanpy - INFO - CmdStan start processing\n"
     ]
    },
    {
     "name": "stdout",
     "output_type": "stream",
     "text": [
      "Fitting the model using the priors:\n",
      "alpha_priors {'mu_mu': -0.3, 'sd_mu': 0.1, 'mu_sd': 0, 'sd_sd': 0.1}\n",
      "sensitivity_priors {'mu_mu': -0.1, 'sd_mu': 0.1, 'mu_sd': 0, 'sd_sd': 0.1}\n"
     ]
    },
    {
     "data": {
      "application/vnd.jupyter.widget-view+json": {
       "model_id": "4aee2626e68141e4ab325b18c2809cdb",
       "version_major": 2,
       "version_minor": 0
      },
      "text/plain": [
       "chain 1 |          | 00:00 Status"
      ]
     },
     "metadata": {},
     "output_type": "display_data"
    },
    {
     "data": {
      "application/vnd.jupyter.widget-view+json": {
       "model_id": "bf79b4f0f84347a2973cc978be6bedc4",
       "version_major": 2,
       "version_minor": 0
      },
      "text/plain": [
       "chain 2 |          | 00:00 Status"
      ]
     },
     "metadata": {},
     "output_type": "display_data"
    },
    {
     "name": "stdout",
     "output_type": "stream",
     "text": [
      "                                                                                                                                                                "
     ]
    },
    {
     "name": "stderr",
     "output_type": "stream",
     "text": [
      "10:33:50 - cmdstanpy - INFO - CmdStan done processing.\n",
      "10:33:50 - cmdstanpy - WARNING - Non-fatal error during sampling:\n",
      "Exception: bernoulli_lpmf: Probability parameter[1] is -nan, but must be in the interval [0, 1] (in '/home/andrei/PycharmProjects/rlssm/rlssm/stan_models/RL_2A/hierRL_2A.stan', line 93, column 1 to column 36)\n",
      "Exception: bernoulli_lpmf: Probability parameter[1] is -nan, but must be in the interval [0, 1] (in '/home/andrei/PycharmProjects/rlssm/rlssm/stan_models/RL_2A/hierRL_2A.stan', line 93, column 1 to column 36)\n",
      "Consider re-running with show_console=True if the above output is unclear!\n"
     ]
    },
    {
     "name": "stdout",
     "output_type": "stream",
     "text": [
      "\n"
     ]
    }
   ],
   "source": [
    "# Run 2 chains, with 3000 samples each, 1000 of which warmup, with thinning and custom priors:\n",
    "model_fit_rl = model_rl.fit(\n",
    "    data_rl,\n",
    "    K=4,\n",
    "    initial_value_learning=27.5,\n",
    "    alpha_priors={'mu_mu':-.3, 'sd_mu':.1, 'mu_sd':0, 'sd_sd':.1},\n",
    "    sensitivity_priors={'mu_mu':-.1, 'sd_mu':.1, 'mu_sd':0, 'sd_sd':.1},\n",
    "    chains=2,\n",
    "    iter_sampling=3000,\n",
    "    iter_warmup=1000,\n",
    "    print_diagnostics=False, # (not suggested, see below)\n",
    "    thin=2)"
   ]
  },
  {
   "cell_type": "markdown",
   "id": "frank-lindsay",
   "metadata": {
    "pycharm": {
     "name": "#%% md\n"
    }
   },
   "source": [
    "## Diagnostics"
   ]
  },
  {
   "cell_type": "markdown",
   "id": "weird-diameter",
   "metadata": {
    "pycharm": {
     "name": "#%% md\n"
    }
   },
   "source": [
    "As you can see, the MCMC diagnostics are already printed by default (if you do not want this, you can set `print_diagnostics` to `False`). I refer to https://mc-stan.org/users/documentation/case-studies/divergences_and_bias.html for an excellent explanation of what these diagnostics actually mean and how to assess them.\n",
    "\n",
    "On top of these, you can also check the convergence of the chains and the WAIC:"
   ]
  },
  {
   "cell_type": "code",
   "execution_count": 10,
   "id": "civic-student",
   "metadata": {
    "pycharm": {
     "name": "#%%\n"
    }
   },
   "outputs": [
    {
     "data": {
      "text/html": [
       "<div>\n",
       "<style scoped>\n",
       "    .dataframe tbody tr th:only-of-type {\n",
       "        vertical-align: middle;\n",
       "    }\n",
       "\n",
       "    .dataframe tbody tr th {\n",
       "        vertical-align: top;\n",
       "    }\n",
       "\n",
       "    .dataframe thead th {\n",
       "        text-align: right;\n",
       "    }\n",
       "</style>\n",
       "<table border=\"1\" class=\"dataframe\">\n",
       "  <thead>\n",
       "    <tr style=\"text-align: right;\">\n",
       "      <th></th>\n",
       "      <th>rhat</th>\n",
       "      <th>variable</th>\n",
       "    </tr>\n",
       "    <tr>\n",
       "      <th>name</th>\n",
       "      <th></th>\n",
       "      <th></th>\n",
       "    </tr>\n",
       "  </thead>\n",
       "  <tbody>\n",
       "    <tr>\n",
       "      <th>lp__</th>\n",
       "      <td>1.000950</td>\n",
       "      <td>lp__</td>\n",
       "    </tr>\n",
       "    <tr>\n",
       "      <th>drift</th>\n",
       "      <td>0.999803</td>\n",
       "      <td>drift</td>\n",
       "    </tr>\n",
       "    <tr>\n",
       "      <th>threshold</th>\n",
       "      <td>1.000970</td>\n",
       "      <td>threshold</td>\n",
       "    </tr>\n",
       "    <tr>\n",
       "      <th>ndt</th>\n",
       "      <td>1.001540</td>\n",
       "      <td>ndt</td>\n",
       "    </tr>\n",
       "    <tr>\n",
       "      <th>drift_ll[1]</th>\n",
       "      <td>0.999803</td>\n",
       "      <td>drift_ll[1]</td>\n",
       "    </tr>\n",
       "    <tr>\n",
       "      <th>...</th>\n",
       "      <td>...</td>\n",
       "      <td>...</td>\n",
       "    </tr>\n",
       "    <tr>\n",
       "      <th>log_lik[396]</th>\n",
       "      <td>0.999742</td>\n",
       "      <td>log_lik[396]</td>\n",
       "    </tr>\n",
       "    <tr>\n",
       "      <th>log_lik[397]</th>\n",
       "      <td>0.999549</td>\n",
       "      <td>log_lik[397]</td>\n",
       "    </tr>\n",
       "    <tr>\n",
       "      <th>log_lik[398]</th>\n",
       "      <td>1.000550</td>\n",
       "      <td>log_lik[398]</td>\n",
       "    </tr>\n",
       "    <tr>\n",
       "      <th>log_lik[399]</th>\n",
       "      <td>1.000480</td>\n",
       "      <td>log_lik[399]</td>\n",
       "    </tr>\n",
       "    <tr>\n",
       "      <th>log_lik[400]</th>\n",
       "      <td>0.999688</td>\n",
       "      <td>log_lik[400]</td>\n",
       "    </tr>\n",
       "  </tbody>\n",
       "</table>\n",
       "<p>2007 rows × 2 columns</p>\n",
       "</div>"
      ],
      "text/plain": [
       "                  rhat      variable\n",
       "name                                \n",
       "lp__          1.000950          lp__\n",
       "drift         0.999803         drift\n",
       "threshold     1.000970     threshold\n",
       "ndt           1.001540           ndt\n",
       "drift_ll[1]   0.999803   drift_ll[1]\n",
       "...                ...           ...\n",
       "log_lik[396]  0.999742  log_lik[396]\n",
       "log_lik[397]  0.999549  log_lik[397]\n",
       "log_lik[398]  1.000550  log_lik[398]\n",
       "log_lik[399]  1.000480  log_lik[399]\n",
       "log_lik[400]  0.999688  log_lik[400]\n",
       "\n",
       "[2007 rows x 2 columns]"
      ]
     },
     "execution_count": 10,
     "metadata": {},
     "output_type": "execute_result"
    }
   ],
   "source": [
    "model_fit_ddm.rhat"
   ]
  },
  {
   "cell_type": "code",
   "execution_count": 11,
   "id": "moral-strap",
   "metadata": {
    "pycharm": {
     "name": "#%%\n"
    }
   },
   "outputs": [
    {
     "data": {
      "text/html": [
       "<div>\n",
       "<style scoped>\n",
       "    .dataframe tbody tr th:only-of-type {\n",
       "        vertical-align: middle;\n",
       "    }\n",
       "\n",
       "    .dataframe tbody tr th {\n",
       "        vertical-align: top;\n",
       "    }\n",
       "\n",
       "    .dataframe thead th {\n",
       "        text-align: right;\n",
       "    }\n",
       "</style>\n",
       "<table border=\"1\" class=\"dataframe\">\n",
       "  <thead>\n",
       "    <tr style=\"text-align: right;\">\n",
       "      <th></th>\n",
       "      <th>rhat</th>\n",
       "    </tr>\n",
       "  </thead>\n",
       "  <tbody>\n",
       "    <tr>\n",
       "      <th>count</th>\n",
       "      <td>12814.000000</td>\n",
       "    </tr>\n",
       "    <tr>\n",
       "      <th>mean</th>\n",
       "      <td>1.000063</td>\n",
       "    </tr>\n",
       "    <tr>\n",
       "      <th>std</th>\n",
       "      <td>0.000642</td>\n",
       "    </tr>\n",
       "    <tr>\n",
       "      <th>min</th>\n",
       "      <td>0.999334</td>\n",
       "    </tr>\n",
       "    <tr>\n",
       "      <th>25%</th>\n",
       "      <td>0.999588</td>\n",
       "    </tr>\n",
       "    <tr>\n",
       "      <th>50%</th>\n",
       "      <td>0.999881</td>\n",
       "    </tr>\n",
       "    <tr>\n",
       "      <th>75%</th>\n",
       "      <td>1.000330</td>\n",
       "    </tr>\n",
       "    <tr>\n",
       "      <th>max</th>\n",
       "      <td>1.003980</td>\n",
       "    </tr>\n",
       "  </tbody>\n",
       "</table>\n",
       "</div>"
      ],
      "text/plain": [
       "               rhat\n",
       "count  12814.000000\n",
       "mean       1.000063\n",
       "std        0.000642\n",
       "min        0.999334\n",
       "25%        0.999588\n",
       "50%        0.999881\n",
       "75%        1.000330\n",
       "max        1.003980"
      ]
     },
     "execution_count": 11,
     "metadata": {},
     "output_type": "execute_result"
    }
   ],
   "source": [
    "model_fit_rl.rhat.describe()"
   ]
  },
  {
   "cell_type": "code",
   "execution_count": 12,
   "id": "conceptual-appointment",
   "metadata": {
    "pycharm": {
     "name": "#%%\n"
    }
   },
   "outputs": [
    {
     "data": {
      "text/plain": [
       "{'lppd': -227.17666381208397,\n",
       " 'p_waic': 3.154874729405787,\n",
       " 'waic': 460.6630770829795,\n",
       " 'waic_se': 47.04475174479631}"
      ]
     },
     "execution_count": 12,
     "metadata": {},
     "output_type": "execute_result"
    }
   ],
   "source": [
    "model_fit_ddm.waic"
   ]
  },
  {
   "cell_type": "code",
   "execution_count": 13,
   "id": "closed-ballot",
   "metadata": {
    "pycharm": {
     "name": "#%%\n"
    }
   },
   "outputs": [
    {
     "data": {
      "text/plain": [
       "{'lppd': -2632.7741983632436,\n",
       " 'p_waic': 53.07031584968287,\n",
       " 'waic': 5371.689028425853,\n",
       " 'waic_se': 94.01724051075693}"
      ]
     },
     "execution_count": 13,
     "metadata": {},
     "output_type": "execute_result"
    }
   ],
   "source": [
    "model_fit_rl.waic"
   ]
  },
  {
   "cell_type": "markdown",
   "id": "taken-conjunction",
   "metadata": {
    "pycharm": {
     "name": "#%% md\n"
    }
   },
   "source": [
    "If you want to also see the point-wise WAIC, you can set `pointwise_waic` to `True`."
   ]
  },
  {
   "cell_type": "markdown",
   "id": "several-kernel",
   "metadata": {
    "pycharm": {
     "name": "#%% md\n"
    }
   },
   "source": [
    "## Save the results"
   ]
  },
  {
   "cell_type": "markdown",
   "id": "noble-engagement",
   "metadata": {
    "pycharm": {
     "name": "#%% md\n"
    }
   },
   "source": [
    "By default, the model fit results are saved in the same folder, using the `model_label` as filename. you can specify a different location using the `filename` argument."
   ]
  },
  {
   "cell_type": "code",
   "execution_count": 14,
   "id": "weird-brief",
   "metadata": {
    "pycharm": {
     "name": "#%%\n"
    }
   },
   "outputs": [
    {
     "name": "stdout",
     "output_type": "stream",
     "text": [
      "Saving file as: /home/andrei/PycharmProjects/rlssm/docs/notebooks/DDM.pkl\n"
     ]
    }
   ],
   "source": [
    "model_fit_ddm.to_pickle()"
   ]
  },
  {
   "cell_type": "code",
   "execution_count": 15,
   "id": "announced-combination",
   "metadata": {
    "pycharm": {
     "name": "#%%\n"
    }
   },
   "outputs": [
    {
     "name": "stdout",
     "output_type": "stream",
     "text": [
      "Saving file as: /home/andrei/PycharmProjects/rlssm/docs/notebooks/hierRL_2A.pkl\n"
     ]
    }
   ],
   "source": [
    "model_fit_rl.to_pickle()"
   ]
  },
  {
   "cell_type": "markdown",
   "id": "tropical-hamburg",
   "metadata": {
    "pycharm": {
     "name": "#%% md\n"
    }
   },
   "source": [
    "## Re-load previously saved results"
   ]
  },
  {
   "cell_type": "code",
   "execution_count": 16,
   "id": "administrative-overhead",
   "metadata": {
    "pycharm": {
     "name": "#%%\n"
    }
   },
   "outputs": [],
   "source": [
    "model_fit_ddm = load_model_results('DDM.pkl')"
   ]
  },
  {
   "cell_type": "code",
   "execution_count": 17,
   "id": "weighted-significance",
   "metadata": {
    "pycharm": {
     "name": "#%%\n"
    }
   },
   "outputs": [],
   "source": [
    "model_fit_rl = load_model_results('hierRL_2A.pkl')"
   ]
  },
  {
   "cell_type": "markdown",
   "id": "colonial-cloud",
   "metadata": {
    "pycharm": {
     "name": "#%% md\n"
    }
   },
   "source": [
    "The data the model was fit on are stored in `data_info`:"
   ]
  },
  {
   "cell_type": "code",
   "execution_count": 18,
   "id": "mighty-school",
   "metadata": {
    "pycharm": {
     "name": "#%%\n"
    }
   },
   "outputs": [
    {
     "data": {
      "text/html": [
       "<div>\n",
       "<style scoped>\n",
       "    .dataframe tbody tr th:only-of-type {\n",
       "        vertical-align: middle;\n",
       "    }\n",
       "\n",
       "    .dataframe tbody tr th {\n",
       "        vertical-align: top;\n",
       "    }\n",
       "\n",
       "    .dataframe thead th {\n",
       "        text-align: right;\n",
       "    }\n",
       "</style>\n",
       "<table border=\"1\" class=\"dataframe\">\n",
       "  <thead>\n",
       "    <tr style=\"text-align: right;\">\n",
       "      <th></th>\n",
       "      <th>index</th>\n",
       "      <th>participant</th>\n",
       "      <th>block_label</th>\n",
       "      <th>trial_block</th>\n",
       "      <th>f_cor</th>\n",
       "      <th>f_inc</th>\n",
       "      <th>cor_option</th>\n",
       "      <th>inc_option</th>\n",
       "      <th>times_seen</th>\n",
       "      <th>rt</th>\n",
       "      <th>accuracy</th>\n",
       "      <th>feedback_type</th>\n",
       "    </tr>\n",
       "  </thead>\n",
       "  <tbody>\n",
       "    <tr>\n",
       "      <th>0</th>\n",
       "      <td>0</td>\n",
       "      <td>1</td>\n",
       "      <td>1</td>\n",
       "      <td>1</td>\n",
       "      <td>43</td>\n",
       "      <td>39</td>\n",
       "      <td>2</td>\n",
       "      <td>1</td>\n",
       "      <td>1</td>\n",
       "      <td>1.244082</td>\n",
       "      <td>0</td>\n",
       "      <td>0</td>\n",
       "    </tr>\n",
       "    <tr>\n",
       "      <th>1</th>\n",
       "      <td>1</td>\n",
       "      <td>1</td>\n",
       "      <td>1</td>\n",
       "      <td>2</td>\n",
       "      <td>60</td>\n",
       "      <td>50</td>\n",
       "      <td>4</td>\n",
       "      <td>3</td>\n",
       "      <td>1</td>\n",
       "      <td>1.101821</td>\n",
       "      <td>1</td>\n",
       "      <td>0</td>\n",
       "    </tr>\n",
       "    <tr>\n",
       "      <th>2</th>\n",
       "      <td>2</td>\n",
       "      <td>1</td>\n",
       "      <td>1</td>\n",
       "      <td>3</td>\n",
       "      <td>44</td>\n",
       "      <td>36</td>\n",
       "      <td>4</td>\n",
       "      <td>2</td>\n",
       "      <td>2</td>\n",
       "      <td>1.029923</td>\n",
       "      <td>0</td>\n",
       "      <td>0</td>\n",
       "    </tr>\n",
       "    <tr>\n",
       "      <th>3</th>\n",
       "      <td>3</td>\n",
       "      <td>1</td>\n",
       "      <td>1</td>\n",
       "      <td>4</td>\n",
       "      <td>55</td>\n",
       "      <td>55</td>\n",
       "      <td>4</td>\n",
       "      <td>3</td>\n",
       "      <td>2</td>\n",
       "      <td>1.368007</td>\n",
       "      <td>0</td>\n",
       "      <td>0</td>\n",
       "    </tr>\n",
       "    <tr>\n",
       "      <th>4</th>\n",
       "      <td>4</td>\n",
       "      <td>1</td>\n",
       "      <td>1</td>\n",
       "      <td>5</td>\n",
       "      <td>52</td>\n",
       "      <td>49</td>\n",
       "      <td>4</td>\n",
       "      <td>3</td>\n",
       "      <td>3</td>\n",
       "      <td>1.039329</td>\n",
       "      <td>1</td>\n",
       "      <td>0</td>\n",
       "    </tr>\n",
       "    <tr>\n",
       "      <th>...</th>\n",
       "      <td>...</td>\n",
       "      <td>...</td>\n",
       "      <td>...</td>\n",
       "      <td>...</td>\n",
       "      <td>...</td>\n",
       "      <td>...</td>\n",
       "      <td>...</td>\n",
       "      <td>...</td>\n",
       "      <td>...</td>\n",
       "      <td>...</td>\n",
       "      <td>...</td>\n",
       "      <td>...</td>\n",
       "    </tr>\n",
       "    <tr>\n",
       "      <th>6459</th>\n",
       "      <td>6459</td>\n",
       "      <td>27</td>\n",
       "      <td>3</td>\n",
       "      <td>76</td>\n",
       "      <td>37</td>\n",
       "      <td>36</td>\n",
       "      <td>2</td>\n",
       "      <td>1</td>\n",
       "      <td>39</td>\n",
       "      <td>1.875327</td>\n",
       "      <td>1</td>\n",
       "      <td>0</td>\n",
       "    </tr>\n",
       "    <tr>\n",
       "      <th>6460</th>\n",
       "      <td>6460</td>\n",
       "      <td>27</td>\n",
       "      <td>3</td>\n",
       "      <td>77</td>\n",
       "      <td>58</td>\n",
       "      <td>41</td>\n",
       "      <td>4</td>\n",
       "      <td>2</td>\n",
       "      <td>39</td>\n",
       "      <td>1.696957</td>\n",
       "      <td>1</td>\n",
       "      <td>0</td>\n",
       "    </tr>\n",
       "    <tr>\n",
       "      <th>6461</th>\n",
       "      <td>6461</td>\n",
       "      <td>27</td>\n",
       "      <td>3</td>\n",
       "      <td>78</td>\n",
       "      <td>64</td>\n",
       "      <td>49</td>\n",
       "      <td>4</td>\n",
       "      <td>3</td>\n",
       "      <td>38</td>\n",
       "      <td>2.059956</td>\n",
       "      <td>1</td>\n",
       "      <td>0</td>\n",
       "    </tr>\n",
       "    <tr>\n",
       "      <th>6462</th>\n",
       "      <td>6462</td>\n",
       "      <td>27</td>\n",
       "      <td>3</td>\n",
       "      <td>79</td>\n",
       "      <td>44</td>\n",
       "      <td>37</td>\n",
       "      <td>3</td>\n",
       "      <td>1</td>\n",
       "      <td>39</td>\n",
       "      <td>1.623731</td>\n",
       "      <td>1</td>\n",
       "      <td>0</td>\n",
       "    </tr>\n",
       "    <tr>\n",
       "      <th>6463</th>\n",
       "      <td>6463</td>\n",
       "      <td>27</td>\n",
       "      <td>3</td>\n",
       "      <td>80</td>\n",
       "      <td>51</td>\n",
       "      <td>51</td>\n",
       "      <td>4</td>\n",
       "      <td>3</td>\n",
       "      <td>40</td>\n",
       "      <td>1.115363</td>\n",
       "      <td>1</td>\n",
       "      <td>0</td>\n",
       "    </tr>\n",
       "  </tbody>\n",
       "</table>\n",
       "<p>6464 rows × 12 columns</p>\n",
       "</div>"
      ],
      "text/plain": [
       "      index  participant  block_label  trial_block  f_cor  f_inc  cor_option  \\\n",
       "0         0            1            1            1     43     39           2   \n",
       "1         1            1            1            2     60     50           4   \n",
       "2         2            1            1            3     44     36           4   \n",
       "3         3            1            1            4     55     55           4   \n",
       "4         4            1            1            5     52     49           4   \n",
       "...     ...          ...          ...          ...    ...    ...         ...   \n",
       "6459   6459           27            3           76     37     36           2   \n",
       "6460   6460           27            3           77     58     41           4   \n",
       "6461   6461           27            3           78     64     49           4   \n",
       "6462   6462           27            3           79     44     37           3   \n",
       "6463   6463           27            3           80     51     51           4   \n",
       "\n",
       "      inc_option  times_seen        rt  accuracy  feedback_type  \n",
       "0              1           1  1.244082         0              0  \n",
       "1              3           1  1.101821         1              0  \n",
       "2              2           2  1.029923         0              0  \n",
       "3              3           2  1.368007         0              0  \n",
       "4              3           3  1.039329         1              0  \n",
       "...          ...         ...       ...       ...            ...  \n",
       "6459           1          39  1.875327         1              0  \n",
       "6460           2          39  1.696957         1              0  \n",
       "6461           3          38  2.059956         1              0  \n",
       "6462           1          39  1.623731         1              0  \n",
       "6463           3          40  1.115363         1              0  \n",
       "\n",
       "[6464 rows x 12 columns]"
      ]
     },
     "execution_count": 18,
     "metadata": {},
     "output_type": "execute_result"
    }
   ],
   "source": [
    "model_fit_rl.data_info['data']"
   ]
  },
  {
   "cell_type": "markdown",
   "id": "impressive-bulgarian",
   "metadata": {
    "pycharm": {
     "name": "#%% md\n"
    }
   },
   "source": [
    "The priors are stored in `priors`:"
   ]
  },
  {
   "cell_type": "code",
   "execution_count": 19,
   "id": "excited-victory",
   "metadata": {
    "pycharm": {
     "name": "#%%\n"
    }
   },
   "outputs": [
    {
     "data": {
      "text/plain": [
       "{'drift_priors': {'mu': 0.5, 'sd': 1},\n",
       " 'threshold_priors': {'mu': 0, 'sd': 0.5},\n",
       " 'ndt_priors': {'mu': 0, 'sd': 0.1}}"
      ]
     },
     "execution_count": 19,
     "metadata": {},
     "output_type": "execute_result"
    }
   ],
   "source": [
    "model_fit_ddm.priors"
   ]
  },
  {
   "cell_type": "code",
   "execution_count": 20,
   "id": "representative-express",
   "metadata": {
    "pycharm": {
     "name": "#%%\n"
    }
   },
   "outputs": [
    {
     "data": {
      "text/plain": [
       "{'alpha_priors': {'mu_mu': -0.3, 'sd_mu': 0.1, 'mu_sd': 0, 'sd_sd': 0.1},\n",
       " 'sensitivity_priors': {'mu_mu': -0.1, 'sd_mu': 0.1, 'mu_sd': 0, 'sd_sd': 0.1}}"
      ]
     },
     "execution_count": 20,
     "metadata": {},
     "output_type": "execute_result"
    }
   ],
   "source": [
    "model_fit_rl.priors"
   ]
  },
  {
   "cell_type": "markdown",
   "id": "settled-genetics",
   "metadata": {
    "pycharm": {
     "name": "#%% md\n"
    }
   },
   "source": [
    "And different parameter information are stored in `parameter_info`:"
   ]
  },
  {
   "cell_type": "code",
   "execution_count": 21,
   "id": "extensive-evolution",
   "metadata": {
    "pycharm": {
     "name": "#%%\n"
    }
   },
   "outputs": [
    {
     "data": {
      "text/plain": [
       "{'hierarchical_levels': 1,\n",
       " 'n_parameters_individual': 3,\n",
       " 'n_parameters_trial': 0,\n",
       " 'n_posterior_samples': 2000,\n",
       " 'parameters_names': ['drift', 'threshold', 'ndt'],\n",
       " 'parameters_names_transf': ['transf_drift', 'transf_threshold', 'transf_ndt'],\n",
       " 'parameters_names_all': ['drift', 'threshold', 'ndt']}"
      ]
     },
     "execution_count": 21,
     "metadata": {},
     "output_type": "execute_result"
    }
   ],
   "source": [
    "model_fit_ddm.parameters_info"
   ]
  },
  {
   "cell_type": "code",
   "execution_count": 22,
   "id": "digital-arthur",
   "metadata": {
    "pycharm": {
     "name": "#%%\n"
    }
   },
   "outputs": [
    {
     "data": {
      "text/plain": [
       "{'lppd': -2632.7741983632436,\n",
       " 'p_waic': 53.07031584968287,\n",
       " 'waic': 5371.689028425853,\n",
       " 'waic_se': 94.01724051075693}"
      ]
     },
     "execution_count": 22,
     "metadata": {},
     "output_type": "execute_result"
    }
   ],
   "source": [
    "model_fit_rl.waic"
   ]
  },
  {
   "cell_type": "markdown",
   "id": "foreign-staff",
   "metadata": {
    "pycharm": {
     "name": "#%% md\n"
    }
   },
   "source": [
    "And, of course, you can inspect the model's posteriors, see [How to inspect a model](https://rlssm.readthedocs.io/en/latest/notebooks/inspect_model.html) for more details on this."
   ]
  }
 ],
 "metadata": {
  "kernelspec": {
   "display_name": "Python 3 (ipykernel)",
   "language": "python",
   "name": "python3"
  },
  "language_info": {
   "codemirror_mode": {
    "name": "ipython",
    "version": 3
   },
   "file_extension": ".py",
   "mimetype": "text/x-python",
   "name": "python",
   "nbconvert_exporter": "python",
   "pygments_lexer": "ipython3",
   "version": "3.8.10"
  }
 },
 "nbformat": 4,
 "nbformat_minor": 5
}
