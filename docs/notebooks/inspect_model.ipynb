{
 "cells": [
  {
   "cell_type": "markdown",
   "id": "protecting-purpose",
   "metadata": {},
   "source": [
    "# How to inspect model fit results"
   ]
  },
  {
   "cell_type": "markdown",
   "id": "shaped-rough",
   "metadata": {},
   "source": [
    "### Non-learning example (non-hierarchical, simulated data)"
   ]
  },
  {
   "cell_type": "markdown",
   "id": "sustainable-belize",
   "metadata": {},
   "source": [
    "### Learning example (hierarchical, real data)"
   ]
  }
 ],
 "metadata": {
  "kernelspec": {
   "display_name": "Python 3",
   "language": "python",
   "name": "python3"
  },
  "language_info": {
   "codemirror_mode": {
    "name": "ipython",
    "version": 3
   },
   "file_extension": ".py",
   "mimetype": "text/x-python",
   "name": "python",
   "nbconvert_exporter": "python",
   "pygments_lexer": "ipython3",
   "version": "3.7.9"
  }
 },
 "nbformat": 4,
 "nbformat_minor": 5
}
