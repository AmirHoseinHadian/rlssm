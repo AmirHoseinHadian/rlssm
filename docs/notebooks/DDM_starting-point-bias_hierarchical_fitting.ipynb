{
 "cells": [
  {
   "cell_type": "markdown",
   "metadata": {
    "pycharm": {
     "name": "#%% md\n"
    }
   },
   "source": [
    "# Parameter recovery of the hierarchical DDM with starting point bias"
   ]
  },
  {
   "cell_type": "markdown",
   "metadata": {
    "pycharm": {
     "name": "#%% md\n"
    }
   },
   "source": [
    "## Simulate group data"
   ]
  },
  {
   "cell_type": "code",
   "execution_count": 1,
   "metadata": {
    "pycharm": {
     "name": "#%%\n"
    }
   },
   "outputs": [],
   "source": [
    "from rlssm.random.random_DDM import simulate_hier_ddm\n",
    "\n",
    "data = simulate_hier_ddm(n_trials=200,\n",
    "                         n_participants=10,\n",
    "                         gen_mu_drift=.6, gen_sd_drift=.1,\n",
    "                         gen_mu_threshold=.5, gen_sd_threshold=.1,\n",
    "                         gen_mu_ndt=0, gen_sd_ndt=.01,\n",
    "                         gen_mu_rel_sp=.1, gen_sd_rel_sp=.01)"
   ]
  },
  {
   "cell_type": "code",
   "execution_count": 2,
   "metadata": {
    "pycharm": {
     "name": "#%%\n"
    }
   },
   "outputs": [
    {
     "data": {
      "text/plain": "                   threshold       ndt     drift   rel_sp        rt  accuracy\nparticipant trial                                                            \n1           1       0.997566  0.687824  0.677658  0.54481  0.762824       1.0\n            2       0.997566  0.687824  0.677658  0.54481  0.782824       0.0\n            3       0.997566  0.687824  0.677658  0.54481  1.317824       1.0\n            4       0.997566  0.687824  0.677658  0.54481  0.889824       1.0\n            5       0.997566  0.687824  0.677658  0.54481  1.135824       1.0",
      "text/html": "<div>\n<style scoped>\n    .dataframe tbody tr th:only-of-type {\n        vertical-align: middle;\n    }\n\n    .dataframe tbody tr th {\n        vertical-align: top;\n    }\n\n    .dataframe thead th {\n        text-align: right;\n    }\n</style>\n<table border=\"1\" class=\"dataframe\">\n  <thead>\n    <tr style=\"text-align: right;\">\n      <th></th>\n      <th></th>\n      <th>threshold</th>\n      <th>ndt</th>\n      <th>drift</th>\n      <th>rel_sp</th>\n      <th>rt</th>\n      <th>accuracy</th>\n    </tr>\n    <tr>\n      <th>participant</th>\n      <th>trial</th>\n      <th></th>\n      <th></th>\n      <th></th>\n      <th></th>\n      <th></th>\n      <th></th>\n    </tr>\n  </thead>\n  <tbody>\n    <tr>\n      <th rowspan=\"5\" valign=\"top\">1</th>\n      <th>1</th>\n      <td>0.997566</td>\n      <td>0.687824</td>\n      <td>0.677658</td>\n      <td>0.54481</td>\n      <td>0.762824</td>\n      <td>1.0</td>\n    </tr>\n    <tr>\n      <th>2</th>\n      <td>0.997566</td>\n      <td>0.687824</td>\n      <td>0.677658</td>\n      <td>0.54481</td>\n      <td>0.782824</td>\n      <td>0.0</td>\n    </tr>\n    <tr>\n      <th>3</th>\n      <td>0.997566</td>\n      <td>0.687824</td>\n      <td>0.677658</td>\n      <td>0.54481</td>\n      <td>1.317824</td>\n      <td>1.0</td>\n    </tr>\n    <tr>\n      <th>4</th>\n      <td>0.997566</td>\n      <td>0.687824</td>\n      <td>0.677658</td>\n      <td>0.54481</td>\n      <td>0.889824</td>\n      <td>1.0</td>\n    </tr>\n    <tr>\n      <th>5</th>\n      <td>0.997566</td>\n      <td>0.687824</td>\n      <td>0.677658</td>\n      <td>0.54481</td>\n      <td>1.135824</td>\n      <td>1.0</td>\n    </tr>\n  </tbody>\n</table>\n</div>"
     },
     "execution_count": 2,
     "metadata": {},
     "output_type": "execute_result"
    }
   ],
   "source": [
    "data.head()"
   ]
  },
  {
   "cell_type": "code",
   "execution_count": 3,
   "metadata": {
    "pycharm": {
     "name": "#%%\n"
    }
   },
   "outputs": [
    {
     "data": {
      "text/plain": "                rt                                                    \\\n             count      mean       std       min       25%       50%   \nparticipant                                                            \n1            200.0  0.928674  0.168041  0.711824  0.810324  0.890324   \n2            200.0  0.937076  0.219904  0.709391  0.781391  0.874391   \n3            200.0  0.960827  0.214239  0.719352  0.825102  0.898852   \n4            200.0  0.921799  0.179152  0.710364  0.782114  0.865864   \n5            200.0  0.894215  0.159333  0.709410  0.770410  0.832410   \n6            200.0  0.890137  0.153577  0.718092  0.784842  0.844092   \n7            200.0  1.037216  0.281163  0.726326  0.819326  0.943826   \n8            200.0  0.941757  0.194178  0.709367  0.798367  0.888867   \n9            200.0  0.948363  0.222625  0.717818  0.803068  0.892318   \n10           200.0  0.939092  0.180142  0.722577  0.810577  0.867077   \n\n                                accuracy                                       \\\n                  75%       max    count   mean       std  min  25%  50%  75%   \nparticipant                                                                     \n1            1.013324  1.583824    200.0  0.725  0.447635  0.0  0.0  1.0  1.0   \n2            1.010391  2.144391    200.0  0.735  0.442441  0.0  0.0  1.0  1.0   \n3            1.024602  2.190352    200.0  0.685  0.465682  0.0  0.0  1.0  1.0   \n4            1.017864  1.528364    200.0  0.630  0.484016  0.0  0.0  1.0  1.0   \n5            0.968910  1.417410    200.0  0.665  0.473175  0.0  0.0  1.0  1.0   \n6            0.960342  1.636092    200.0  0.705  0.457187  0.0  0.0  1.0  1.0   \n7            1.148826  2.261326    200.0  0.770  0.421889  0.0  1.0  1.0  1.0   \n8            1.022867  1.876367    200.0  0.695  0.461563  0.0  0.0  1.0  1.0   \n9            1.011818  2.127818    200.0  0.650  0.478167  0.0  0.0  1.0  1.0   \n10           1.013827  1.564577    200.0  0.660  0.474898  0.0  0.0  1.0  1.0   \n\n                  \n             max  \nparticipant       \n1            1.0  \n2            1.0  \n3            1.0  \n4            1.0  \n5            1.0  \n6            1.0  \n7            1.0  \n8            1.0  \n9            1.0  \n10           1.0  ",
      "text/html": "<div>\n<style scoped>\n    .dataframe tbody tr th:only-of-type {\n        vertical-align: middle;\n    }\n\n    .dataframe tbody tr th {\n        vertical-align: top;\n    }\n\n    .dataframe thead tr th {\n        text-align: left;\n    }\n\n    .dataframe thead tr:last-of-type th {\n        text-align: right;\n    }\n</style>\n<table border=\"1\" class=\"dataframe\">\n  <thead>\n    <tr>\n      <th></th>\n      <th colspan=\"8\" halign=\"left\">rt</th>\n      <th colspan=\"8\" halign=\"left\">accuracy</th>\n    </tr>\n    <tr>\n      <th></th>\n      <th>count</th>\n      <th>mean</th>\n      <th>std</th>\n      <th>min</th>\n      <th>25%</th>\n      <th>50%</th>\n      <th>75%</th>\n      <th>max</th>\n      <th>count</th>\n      <th>mean</th>\n      <th>std</th>\n      <th>min</th>\n      <th>25%</th>\n      <th>50%</th>\n      <th>75%</th>\n      <th>max</th>\n    </tr>\n    <tr>\n      <th>participant</th>\n      <th></th>\n      <th></th>\n      <th></th>\n      <th></th>\n      <th></th>\n      <th></th>\n      <th></th>\n      <th></th>\n      <th></th>\n      <th></th>\n      <th></th>\n      <th></th>\n      <th></th>\n      <th></th>\n      <th></th>\n      <th></th>\n    </tr>\n  </thead>\n  <tbody>\n    <tr>\n      <th>1</th>\n      <td>200.0</td>\n      <td>0.928674</td>\n      <td>0.168041</td>\n      <td>0.711824</td>\n      <td>0.810324</td>\n      <td>0.890324</td>\n      <td>1.013324</td>\n      <td>1.583824</td>\n      <td>200.0</td>\n      <td>0.725</td>\n      <td>0.447635</td>\n      <td>0.0</td>\n      <td>0.0</td>\n      <td>1.0</td>\n      <td>1.0</td>\n      <td>1.0</td>\n    </tr>\n    <tr>\n      <th>2</th>\n      <td>200.0</td>\n      <td>0.937076</td>\n      <td>0.219904</td>\n      <td>0.709391</td>\n      <td>0.781391</td>\n      <td>0.874391</td>\n      <td>1.010391</td>\n      <td>2.144391</td>\n      <td>200.0</td>\n      <td>0.735</td>\n      <td>0.442441</td>\n      <td>0.0</td>\n      <td>0.0</td>\n      <td>1.0</td>\n      <td>1.0</td>\n      <td>1.0</td>\n    </tr>\n    <tr>\n      <th>3</th>\n      <td>200.0</td>\n      <td>0.960827</td>\n      <td>0.214239</td>\n      <td>0.719352</td>\n      <td>0.825102</td>\n      <td>0.898852</td>\n      <td>1.024602</td>\n      <td>2.190352</td>\n      <td>200.0</td>\n      <td>0.685</td>\n      <td>0.465682</td>\n      <td>0.0</td>\n      <td>0.0</td>\n      <td>1.0</td>\n      <td>1.0</td>\n      <td>1.0</td>\n    </tr>\n    <tr>\n      <th>4</th>\n      <td>200.0</td>\n      <td>0.921799</td>\n      <td>0.179152</td>\n      <td>0.710364</td>\n      <td>0.782114</td>\n      <td>0.865864</td>\n      <td>1.017864</td>\n      <td>1.528364</td>\n      <td>200.0</td>\n      <td>0.630</td>\n      <td>0.484016</td>\n      <td>0.0</td>\n      <td>0.0</td>\n      <td>1.0</td>\n      <td>1.0</td>\n      <td>1.0</td>\n    </tr>\n    <tr>\n      <th>5</th>\n      <td>200.0</td>\n      <td>0.894215</td>\n      <td>0.159333</td>\n      <td>0.709410</td>\n      <td>0.770410</td>\n      <td>0.832410</td>\n      <td>0.968910</td>\n      <td>1.417410</td>\n      <td>200.0</td>\n      <td>0.665</td>\n      <td>0.473175</td>\n      <td>0.0</td>\n      <td>0.0</td>\n      <td>1.0</td>\n      <td>1.0</td>\n      <td>1.0</td>\n    </tr>\n    <tr>\n      <th>6</th>\n      <td>200.0</td>\n      <td>0.890137</td>\n      <td>0.153577</td>\n      <td>0.718092</td>\n      <td>0.784842</td>\n      <td>0.844092</td>\n      <td>0.960342</td>\n      <td>1.636092</td>\n      <td>200.0</td>\n      <td>0.705</td>\n      <td>0.457187</td>\n      <td>0.0</td>\n      <td>0.0</td>\n      <td>1.0</td>\n      <td>1.0</td>\n      <td>1.0</td>\n    </tr>\n    <tr>\n      <th>7</th>\n      <td>200.0</td>\n      <td>1.037216</td>\n      <td>0.281163</td>\n      <td>0.726326</td>\n      <td>0.819326</td>\n      <td>0.943826</td>\n      <td>1.148826</td>\n      <td>2.261326</td>\n      <td>200.0</td>\n      <td>0.770</td>\n      <td>0.421889</td>\n      <td>0.0</td>\n      <td>1.0</td>\n      <td>1.0</td>\n      <td>1.0</td>\n      <td>1.0</td>\n    </tr>\n    <tr>\n      <th>8</th>\n      <td>200.0</td>\n      <td>0.941757</td>\n      <td>0.194178</td>\n      <td>0.709367</td>\n      <td>0.798367</td>\n      <td>0.888867</td>\n      <td>1.022867</td>\n      <td>1.876367</td>\n      <td>200.0</td>\n      <td>0.695</td>\n      <td>0.461563</td>\n      <td>0.0</td>\n      <td>0.0</td>\n      <td>1.0</td>\n      <td>1.0</td>\n      <td>1.0</td>\n    </tr>\n    <tr>\n      <th>9</th>\n      <td>200.0</td>\n      <td>0.948363</td>\n      <td>0.222625</td>\n      <td>0.717818</td>\n      <td>0.803068</td>\n      <td>0.892318</td>\n      <td>1.011818</td>\n      <td>2.127818</td>\n      <td>200.0</td>\n      <td>0.650</td>\n      <td>0.478167</td>\n      <td>0.0</td>\n      <td>0.0</td>\n      <td>1.0</td>\n      <td>1.0</td>\n      <td>1.0</td>\n    </tr>\n    <tr>\n      <th>10</th>\n      <td>200.0</td>\n      <td>0.939092</td>\n      <td>0.180142</td>\n      <td>0.722577</td>\n      <td>0.810577</td>\n      <td>0.867077</td>\n      <td>1.013827</td>\n      <td>1.564577</td>\n      <td>200.0</td>\n      <td>0.660</td>\n      <td>0.474898</td>\n      <td>0.0</td>\n      <td>0.0</td>\n      <td>1.0</td>\n      <td>1.0</td>\n      <td>1.0</td>\n    </tr>\n  </tbody>\n</table>\n</div>"
     },
     "execution_count": 3,
     "metadata": {},
     "output_type": "execute_result"
    }
   ],
   "source": [
    "data.groupby('participant').describe()[['rt', 'accuracy']]"
   ]
  },
  {
   "cell_type": "markdown",
   "metadata": {
    "pycharm": {
     "name": "#%% md\n"
    }
   },
   "source": [
    "## Initialize the model"
   ]
  },
  {
   "cell_type": "code",
   "execution_count": 4,
   "metadata": {
    "pycharm": {
     "name": "#%%\n"
    }
   },
   "outputs": [],
   "source": [
    "from rlssm.model.models_DDM import DDModel\n",
    "\n",
    "model = DDModel(hierarchical_levels=2, starting_point_bias=True)"
   ]
  },
  {
   "cell_type": "markdown",
   "metadata": {
    "pycharm": {
     "name": "#%% md\n"
    }
   },
   "source": [
    "## Fit"
   ]
  },
  {
   "cell_type": "code",
   "execution_count": 5,
   "metadata": {
    "pycharm": {
     "name": "#%%\n"
    }
   },
   "outputs": [],
   "source": [
    "# sampling parameters\n",
    "n_warmup = 1000\n",
    "n_sampling = 2000\n",
    "n_chains = 2\n",
    "n_thin = 1"
   ]
  },
  {
   "cell_type": "code",
   "execution_count": 6,
   "metadata": {
    "pycharm": {
     "name": "#%%\n"
    }
   },
   "outputs": [
    {
     "data": {
      "text/plain": "chain 1 |          | 00:00 Status",
      "application/vnd.jupyter.widget-view+json": {
       "version_major": 2,
       "version_minor": 0,
       "model_id": "79475bcc4073421e88d096c9718f0426"
      }
     },
     "metadata": {},
     "output_type": "display_data"
    },
    {
     "data": {
      "text/plain": "chain 2 |          | 00:00 Status",
      "application/vnd.jupyter.widget-view+json": {
       "version_major": 2,
       "version_minor": 0,
       "model_id": "adf75ec1f0c54d54baa4ae254bc31b81"
      }
     },
     "metadata": {},
     "output_type": "display_data"
    }
   ],
   "source": [
    "model_fit = model.fit(\n",
    "    data,\n",
    "    thin=n_thin,\n",
    "    iter_warmup=n_warmup,\n",
    "    iter_sampling=n_sampling,\n",
    "    chains=n_chains)"
   ]
  },
  {
   "cell_type": "markdown",
   "metadata": {
    "pycharm": {
     "name": "#%% md\n"
    }
   },
   "source": [
    "### get Rhat"
   ]
  },
  {
   "cell_type": "code",
   "execution_count": 7,
   "metadata": {
    "pycharm": {
     "name": "#%%\n"
    }
   },
   "outputs": [
    {
     "data": {
      "text/plain": "               rhat\ncount  14093.000000\nmean       0.999916\nstd        0.000306\nmin        0.999508\n25%        0.999701\n50%        0.999828\n75%        1.000100\nmax        1.002040",
      "text/html": "<div>\n<style scoped>\n    .dataframe tbody tr th:only-of-type {\n        vertical-align: middle;\n    }\n\n    .dataframe tbody tr th {\n        vertical-align: top;\n    }\n\n    .dataframe thead th {\n        text-align: right;\n    }\n</style>\n<table border=\"1\" class=\"dataframe\">\n  <thead>\n    <tr style=\"text-align: right;\">\n      <th></th>\n      <th>rhat</th>\n    </tr>\n  </thead>\n  <tbody>\n    <tr>\n      <th>count</th>\n      <td>14093.000000</td>\n    </tr>\n    <tr>\n      <th>mean</th>\n      <td>0.999916</td>\n    </tr>\n    <tr>\n      <th>std</th>\n      <td>0.000306</td>\n    </tr>\n    <tr>\n      <th>min</th>\n      <td>0.999508</td>\n    </tr>\n    <tr>\n      <th>25%</th>\n      <td>0.999701</td>\n    </tr>\n    <tr>\n      <th>50%</th>\n      <td>0.999828</td>\n    </tr>\n    <tr>\n      <th>75%</th>\n      <td>1.000100</td>\n    </tr>\n    <tr>\n      <th>max</th>\n      <td>1.002040</td>\n    </tr>\n  </tbody>\n</table>\n</div>"
     },
     "execution_count": 7,
     "metadata": {},
     "output_type": "execute_result"
    }
   ],
   "source": [
    "model_fit.rhat.describe()"
   ]
  },
  {
   "cell_type": "markdown",
   "metadata": {
    "pycharm": {
     "name": "#%% md\n"
    }
   },
   "source": [
    "### calculate wAIC"
   ]
  },
  {
   "cell_type": "code",
   "execution_count": 8,
   "metadata": {
    "pycharm": {
     "name": "#%%\n"
    }
   },
   "outputs": [
    {
     "data": {
      "text/plain": "{'lppd': -174.3369425876112,\n 'p_waic': 18.97106088333264,\n 'waic': 386.6160069418877,\n 'waic_se': 90.60004515163243}"
     },
     "execution_count": 8,
     "metadata": {},
     "output_type": "execute_result"
    }
   ],
   "source": [
    "model_fit.waic"
   ]
  },
  {
   "cell_type": "markdown",
   "metadata": {
    "pycharm": {
     "name": "#%% md\n"
    }
   },
   "source": [
    "## Posteriors"
   ]
  },
  {
   "cell_type": "code",
   "execution_count": 9,
   "metadata": {
    "pycharm": {
     "name": "#%%\n"
    }
   },
   "outputs": [
    {
     "data": {
      "text/plain": "       threshold_sbj[1]  threshold_sbj[2]  threshold_sbj[3]  threshold_sbj[4]  \\\ncount       4000.000000       4000.000000       4000.000000       4000.000000   \nmean           1.022759          1.018713          1.071132          0.982048   \nstd            0.030045          0.030909          0.031569          0.029368   \nmin            0.919124          0.881666          0.954651          0.887830   \n25%            1.002065          0.998551          1.048843          0.961496   \n50%            1.023060          1.017810          1.071125          0.981486   \n75%            1.042393          1.037983          1.092190          1.001213   \nmax            1.139410          1.139710          1.183850          1.104020   \n\n       threshold_sbj[5]  threshold_sbj[6]  threshold_sbj[7]  threshold_sbj[8]  \\\ncount       4000.000000       4000.000000       4000.000000       4000.000000   \nmean           0.930144          0.935707          1.203107          1.034275   \nstd            0.027376          0.028984          0.036440          0.029803   \nmin            0.849033          0.840513          1.066060          0.933550   \n25%            0.911299          0.916305          1.178795          1.014660   \n50%            0.929302          0.935411          1.202840          1.034090   \n75%            0.948337          0.954928          1.227215          1.053683   \nmax            1.044150          1.037650          1.346960          1.138380   \n\n       threshold_sbj[9]  threshold_sbj[10]  ...   ndt_sbj[1]   ndt_sbj[2]  \\\ncount       4000.000000        4000.000000  ...  4000.000000  4000.000000   \nmean           1.036711           1.032244  ...     0.690977     0.688491   \nstd            0.028988           0.030481  ...     0.002660     0.003356   \nmin            0.926057           0.928768  ...     0.679488     0.666972   \n25%            1.017308           1.012408  ...     0.689397     0.686666   \n50%            1.036335           1.031730  ...     0.691080     0.689013   \n75%            1.055883           1.052290  ...     0.692642     0.690846   \nmax            1.137600           1.152760  ...     0.700987     0.696966   \n\n        ndt_sbj[3]   ndt_sbj[4]   ndt_sbj[5]   ndt_sbj[6]   ndt_sbj[7]  \\\ncount  4000.000000  4000.000000  4000.000000  4000.000000  4000.000000   \nmean      0.692492     0.689865     0.690251     0.692928     0.691174   \nstd       0.003266     0.002800     0.002678     0.003050     0.003311   \nmin       0.677319     0.672696     0.676422     0.681445     0.672121   \n25%       0.690340     0.688298     0.688715     0.690874     0.689380   \n50%       0.692206     0.690156     0.690510     0.692604     0.691183   \n75%       0.694279     0.691798     0.692016     0.694870     0.693054   \nmax       0.707877     0.700162     0.698433     0.704206     0.706131   \n\n        ndt_sbj[8]   ndt_sbj[9]  ndt_sbj[10]  \ncount  4000.000000  4000.000000  4000.000000  \nmean      0.690522     0.691567     0.693453  \nstd       0.002780     0.002896     0.003498  \nmin       0.675451     0.679971     0.682390  \n25%       0.688976     0.689820     0.690989  \n50%       0.690743     0.691507     0.692941  \n75%       0.692287     0.693357     0.695524  \nmax       0.699186     0.702947     0.707094  \n\n[8 rows x 44 columns]",
      "text/html": "<div>\n<style scoped>\n    .dataframe tbody tr th:only-of-type {\n        vertical-align: middle;\n    }\n\n    .dataframe tbody tr th {\n        vertical-align: top;\n    }\n\n    .dataframe thead th {\n        text-align: right;\n    }\n</style>\n<table border=\"1\" class=\"dataframe\">\n  <thead>\n    <tr style=\"text-align: right;\">\n      <th></th>\n      <th>threshold_sbj[1]</th>\n      <th>threshold_sbj[2]</th>\n      <th>threshold_sbj[3]</th>\n      <th>threshold_sbj[4]</th>\n      <th>threshold_sbj[5]</th>\n      <th>threshold_sbj[6]</th>\n      <th>threshold_sbj[7]</th>\n      <th>threshold_sbj[8]</th>\n      <th>threshold_sbj[9]</th>\n      <th>threshold_sbj[10]</th>\n      <th>...</th>\n      <th>ndt_sbj[1]</th>\n      <th>ndt_sbj[2]</th>\n      <th>ndt_sbj[3]</th>\n      <th>ndt_sbj[4]</th>\n      <th>ndt_sbj[5]</th>\n      <th>ndt_sbj[6]</th>\n      <th>ndt_sbj[7]</th>\n      <th>ndt_sbj[8]</th>\n      <th>ndt_sbj[9]</th>\n      <th>ndt_sbj[10]</th>\n    </tr>\n  </thead>\n  <tbody>\n    <tr>\n      <th>count</th>\n      <td>4000.000000</td>\n      <td>4000.000000</td>\n      <td>4000.000000</td>\n      <td>4000.000000</td>\n      <td>4000.000000</td>\n      <td>4000.000000</td>\n      <td>4000.000000</td>\n      <td>4000.000000</td>\n      <td>4000.000000</td>\n      <td>4000.000000</td>\n      <td>...</td>\n      <td>4000.000000</td>\n      <td>4000.000000</td>\n      <td>4000.000000</td>\n      <td>4000.000000</td>\n      <td>4000.000000</td>\n      <td>4000.000000</td>\n      <td>4000.000000</td>\n      <td>4000.000000</td>\n      <td>4000.000000</td>\n      <td>4000.000000</td>\n    </tr>\n    <tr>\n      <th>mean</th>\n      <td>1.022759</td>\n      <td>1.018713</td>\n      <td>1.071132</td>\n      <td>0.982048</td>\n      <td>0.930144</td>\n      <td>0.935707</td>\n      <td>1.203107</td>\n      <td>1.034275</td>\n      <td>1.036711</td>\n      <td>1.032244</td>\n      <td>...</td>\n      <td>0.690977</td>\n      <td>0.688491</td>\n      <td>0.692492</td>\n      <td>0.689865</td>\n      <td>0.690251</td>\n      <td>0.692928</td>\n      <td>0.691174</td>\n      <td>0.690522</td>\n      <td>0.691567</td>\n      <td>0.693453</td>\n    </tr>\n    <tr>\n      <th>std</th>\n      <td>0.030045</td>\n      <td>0.030909</td>\n      <td>0.031569</td>\n      <td>0.029368</td>\n      <td>0.027376</td>\n      <td>0.028984</td>\n      <td>0.036440</td>\n      <td>0.029803</td>\n      <td>0.028988</td>\n      <td>0.030481</td>\n      <td>...</td>\n      <td>0.002660</td>\n      <td>0.003356</td>\n      <td>0.003266</td>\n      <td>0.002800</td>\n      <td>0.002678</td>\n      <td>0.003050</td>\n      <td>0.003311</td>\n      <td>0.002780</td>\n      <td>0.002896</td>\n      <td>0.003498</td>\n    </tr>\n    <tr>\n      <th>min</th>\n      <td>0.919124</td>\n      <td>0.881666</td>\n      <td>0.954651</td>\n      <td>0.887830</td>\n      <td>0.849033</td>\n      <td>0.840513</td>\n      <td>1.066060</td>\n      <td>0.933550</td>\n      <td>0.926057</td>\n      <td>0.928768</td>\n      <td>...</td>\n      <td>0.679488</td>\n      <td>0.666972</td>\n      <td>0.677319</td>\n      <td>0.672696</td>\n      <td>0.676422</td>\n      <td>0.681445</td>\n      <td>0.672121</td>\n      <td>0.675451</td>\n      <td>0.679971</td>\n      <td>0.682390</td>\n    </tr>\n    <tr>\n      <th>25%</th>\n      <td>1.002065</td>\n      <td>0.998551</td>\n      <td>1.048843</td>\n      <td>0.961496</td>\n      <td>0.911299</td>\n      <td>0.916305</td>\n      <td>1.178795</td>\n      <td>1.014660</td>\n      <td>1.017308</td>\n      <td>1.012408</td>\n      <td>...</td>\n      <td>0.689397</td>\n      <td>0.686666</td>\n      <td>0.690340</td>\n      <td>0.688298</td>\n      <td>0.688715</td>\n      <td>0.690874</td>\n      <td>0.689380</td>\n      <td>0.688976</td>\n      <td>0.689820</td>\n      <td>0.690989</td>\n    </tr>\n    <tr>\n      <th>50%</th>\n      <td>1.023060</td>\n      <td>1.017810</td>\n      <td>1.071125</td>\n      <td>0.981486</td>\n      <td>0.929302</td>\n      <td>0.935411</td>\n      <td>1.202840</td>\n      <td>1.034090</td>\n      <td>1.036335</td>\n      <td>1.031730</td>\n      <td>...</td>\n      <td>0.691080</td>\n      <td>0.689013</td>\n      <td>0.692206</td>\n      <td>0.690156</td>\n      <td>0.690510</td>\n      <td>0.692604</td>\n      <td>0.691183</td>\n      <td>0.690743</td>\n      <td>0.691507</td>\n      <td>0.692941</td>\n    </tr>\n    <tr>\n      <th>75%</th>\n      <td>1.042393</td>\n      <td>1.037983</td>\n      <td>1.092190</td>\n      <td>1.001213</td>\n      <td>0.948337</td>\n      <td>0.954928</td>\n      <td>1.227215</td>\n      <td>1.053683</td>\n      <td>1.055883</td>\n      <td>1.052290</td>\n      <td>...</td>\n      <td>0.692642</td>\n      <td>0.690846</td>\n      <td>0.694279</td>\n      <td>0.691798</td>\n      <td>0.692016</td>\n      <td>0.694870</td>\n      <td>0.693054</td>\n      <td>0.692287</td>\n      <td>0.693357</td>\n      <td>0.695524</td>\n    </tr>\n    <tr>\n      <th>max</th>\n      <td>1.139410</td>\n      <td>1.139710</td>\n      <td>1.183850</td>\n      <td>1.104020</td>\n      <td>1.044150</td>\n      <td>1.037650</td>\n      <td>1.346960</td>\n      <td>1.138380</td>\n      <td>1.137600</td>\n      <td>1.152760</td>\n      <td>...</td>\n      <td>0.700987</td>\n      <td>0.696966</td>\n      <td>0.707877</td>\n      <td>0.700162</td>\n      <td>0.698433</td>\n      <td>0.704206</td>\n      <td>0.706131</td>\n      <td>0.699186</td>\n      <td>0.702947</td>\n      <td>0.707094</td>\n    </tr>\n  </tbody>\n</table>\n<p>8 rows × 44 columns</p>\n</div>"
     },
     "execution_count": 9,
     "metadata": {},
     "output_type": "execute_result"
    }
   ],
   "source": [
    "model_fit.samples.describe()"
   ]
  },
  {
   "cell_type": "code",
   "execution_count": 10,
   "metadata": {
    "pycharm": {
     "name": "#%%\n"
    }
   },
   "outputs": [],
   "source": [
    "import seaborn as sns\n",
    "\n",
    "sns.set(context=\"talk\",\n",
    "        style=\"white\",\n",
    "        palette=\"husl\",\n",
    "        rc={'figure.figsize': (15, 8)})"
   ]
  },
  {
   "cell_type": "markdown",
   "metadata": {
    "pycharm": {
     "name": "#%% md\n"
    }
   },
   "source": [
    "Here we plot the estimated posterior distributions against the generating parameters, to see whether the model parameters are recovering well:"
   ]
  },
  {
   "cell_type": "code",
   "execution_count": 11,
   "metadata": {
    "pycharm": {
     "name": "#%%\n"
    }
   },
   "outputs": [
    {
     "data": {
      "text/plain": "<Figure size 1440x360 with 4 Axes>",
      "image/png": "[encoded data removed]"
     },
     "metadata": {
      "needs_background": "light"
     },
     "output_type": "display_data"
    }
   ],
   "source": [
    "g = model_fit.plot_posteriors(height=5, show_intervals='HDI')\n",
    "\n",
    "for i, ax in enumerate(g.axes.flatten()):\n",
    "    ax.axvline(data[['drift', 'threshold', 'ndt', 'rel_sp']].mean().values[i], color='grey', linestyle='--')"
   ]
  }
 ],
 "metadata": {
  "kernelspec": {
   "display_name": "Python 3 (ipykernel)",
   "language": "python",
   "name": "python3"
  },
  "language_info": {
   "codemirror_mode": {
    "name": "ipython",
    "version": 3
   },
   "file_extension": ".py",
   "mimetype": "text/x-python",
   "name": "python",
   "nbconvert_exporter": "python",
   "pygments_lexer": "ipython3",
   "version": "3.8.10"
  }
 },
 "nbformat": 4,
 "nbformat_minor": 4
}