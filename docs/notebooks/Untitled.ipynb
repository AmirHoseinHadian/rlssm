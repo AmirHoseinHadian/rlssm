{
 "cells": [
  {
   "cell_type": "markdown",
   "source": [
    "# Check existence of priors in different models"
   ],
   "metadata": {
    "collapsed": false,
    "pycharm": {
     "name": "#%% md\n"
    }
   }
  },
  {
   "cell_type": "code",
   "execution_count": 24,
   "outputs": [],
   "source": [
    "import rlssm"
   ],
   "metadata": {
    "collapsed": false,
    "pycharm": {
     "name": "#%%\n"
    }
   }
  },
  {
   "cell_type": "code",
   "execution_count": 25,
   "outputs": [
    {
     "name": "stdout",
     "output_type": "stream",
     "text": [
      "Using cached StanModel\n"
     ]
    }
   ],
   "source": [
    "model = rlssm.RLDDModel(hierarchical_levels=1, separate_learning_rates=True)"
   ],
   "metadata": {
    "collapsed": false,
    "pycharm": {
     "name": "#%%\n"
    }
   }
  },
  {
   "cell_type": "code",
   "execution_count": 26,
   "id": "pursuant-ground",
   "metadata": {
    "pycharm": {
     "name": "#%%\n"
    }
   },
   "outputs": [
    {
     "data": {
      "text/plain": "{'alpha_pos_priors': {'mu': 0, 'sd': 1},\n 'alpha_neg_priors': {'mu': 0, 'sd': 1},\n 'drift_scaling_priors': {'mu': 1, 'sd': 50},\n 'threshold_priors': {'mu': 1, 'sd': 5},\n 'ndt_priors': {'mu': 1, 'sd': 1}}"
     },
     "execution_count": 26,
     "metadata": {},
     "output_type": "execute_result"
    }
   ],
   "source": [
    "model.priors"
   ]
  },
  {
   "cell_type": "code",
   "execution_count": 27,
   "id": "rough-monthly",
   "metadata": {
    "pycharm": {
     "name": "#%%\n"
    }
   },
   "outputs": [
    {
     "name": "stdout",
     "output_type": "stream",
     "text": [
      "Using cached StanModel\n"
     ]
    }
   ],
   "source": [
    "model = rlssm.ALBAModel_2A(hierarchical_levels=1)"
   ]
  },
  {
   "cell_type": "code",
   "execution_count": 28,
   "id": "acquired-verse",
   "metadata": {
    "pycharm": {
     "name": "#%%\n"
    }
   },
   "outputs": [
    {
     "data": {
      "text/plain": "{'k_priors': {'mu': 1, 'sd': 1},\n 'sp_trial_var_priors': {'mu': 0.3, 'sd': 1},\n 'ndt_priors': {'mu': 0, 'sd': 1},\n 'v0_priors': {'mu': 9, 'sd': 2},\n 'ws_priors': {'mu': 0, 'sd': 2},\n 'wd_priors': {'mu': 3, 'sd': 3},\n 'drift_variability_priors': {'mu': 1, 'sd': 1}}"
     },
     "execution_count": 28,
     "metadata": {},
     "output_type": "execute_result"
    }
   ],
   "source": [
    "model.priors"
   ]
  },
  {
   "cell_type": "code",
   "execution_count": 29,
   "id": "marine-reverse",
   "metadata": {
    "pycharm": {
     "name": "#%%\n"
    }
   },
   "outputs": [
    {
     "name": "stdout",
     "output_type": "stream",
     "text": [
      "Using cached StanModel\n"
     ]
    }
   ],
   "source": [
    "model = rlssm.RLLBAModel_2A(hierarchical_levels=1)"
   ]
  },
  {
   "cell_type": "code",
   "execution_count": 30,
   "id": "palestinian-morris",
   "metadata": {
    "pycharm": {
     "name": "#%%\n"
    }
   },
   "outputs": [
    {
     "data": {
      "text/plain": "{'alpha_priors': {'mu': 0, 'sd': 1},\n 'k_priors': {'mu': 1, 'sd': 1},\n 'ndt_priors': {'mu': 0, 'sd': 1},\n 'sp_trial_var_priors': {'mu': 0.3, 'sd': 1},\n 'drift_asym_priors': {'mu': 0, 'sd': 1},\n 'drift_scaling_priors': {'mu': 2, 'sd': 1},\n 'drift_variability_priors': {'mu': 1, 'sd': 1}}"
     },
     "execution_count": 30,
     "metadata": {},
     "output_type": "execute_result"
    }
   ],
   "source": [
    "model.priors"
   ]
  },
  {
   "cell_type": "code",
   "execution_count": 31,
   "id": "banner-surgeon",
   "metadata": {
    "pycharm": {
     "name": "#%%\n"
    }
   },
   "outputs": [
    {
     "name": "stdout",
     "output_type": "stream",
     "text": [
      "Using cached StanModel\n"
     ]
    }
   ],
   "source": [
    "model = rlssm.ARDModel_2A(hierarchical_levels=1)"
   ]
  },
  {
   "cell_type": "code",
   "execution_count": 32,
   "id": "blond-soccer",
   "metadata": {
    "pycharm": {
     "name": "#%%\n"
    }
   },
   "outputs": [
    {
     "data": {
      "text/plain": "{'threshold_priors': {'mu': 0, 'sd': 5},\n 'ndt_priors': {'mu': 0, 'sd': 5},\n 'v0_priors': {'mu': 9, 'sd': 2},\n 'ws_priors': {'mu': 0, 'sd': 2},\n 'wd_priors': {'mu': 3, 'sd': 3}}"
     },
     "execution_count": 32,
     "metadata": {},
     "output_type": "execute_result"
    }
   ],
   "source": [
    "model.priors"
   ]
  },
  {
   "cell_type": "code",
   "execution_count": 33,
   "id": "knowing-onion",
   "metadata": {
    "pycharm": {
     "name": "#%%\n"
    }
   },
   "outputs": [
    {
     "name": "stdout",
     "output_type": "stream",
     "text": [
      "Using cached StanModel\n"
     ]
    }
   ],
   "source": [
    "model = rlssm.RLARDModel_2A(hierarchical_levels=1, separate_learning_rates=True)"
   ]
  },
  {
   "cell_type": "code",
   "execution_count": 34,
   "id": "critical-reset",
   "metadata": {
    "pycharm": {
     "name": "#%%\n"
    }
   },
   "outputs": [
    {
     "data": {
      "text/plain": "{'threshold_priors': {'mu': 0, 'sd': 5},\n 'ndt_priors': {'mu': 0, 'sd': 5},\n 'alpha_pos_priors': {'mu': 0, 'sd': 1},\n 'alpha_neg_priors': {'mu': 0, 'sd': 1},\n 'v0_priors': {'mu': 9, 'sd': 2},\n 'ws_priors': {'mu': 0, 'sd': 2},\n 'wd_priors': {'mu': 3, 'sd': 3}}"
     },
     "execution_count": 34,
     "metadata": {},
     "output_type": "execute_result"
    }
   ],
   "source": [
    "model.priors"
   ]
  }
 ],
 "metadata": {
  "kernelspec": {
   "display_name": "Python 3",
   "language": "python",
   "name": "python3"
  },
  "language_info": {
   "codemirror_mode": {
    "name": "ipython",
    "version": 3
   },
   "file_extension": ".py",
   "mimetype": "text/x-python",
   "name": "python",
   "nbconvert_exporter": "python",
   "pygments_lexer": "ipython3",
   "version": "3.7.9"
  }
 },
 "nbformat": 4,
 "nbformat_minor": 5
}